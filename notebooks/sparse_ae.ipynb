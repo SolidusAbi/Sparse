{
 "cells": [
  {
   "cell_type": "code",
   "execution_count": 1,
   "metadata": {},
   "outputs": [],
   "source": [
    "import os, sys\n",
    "project_dir = os.path.join(os.getcwd(),'..')\n",
    "if project_dir not in sys.path:\n",
    "    sys.path.append(project_dir)\n",
    "\n",
    "import numpy as np\n",
    "import torch\n",
    "from torch import nn\n",
    "\n",
    "from torch.utils.data import DataLoader\n",
    "from torchvision.datasets import MNIST\n",
    "from torchvision.transforms import Compose, ToTensor"
   ]
  },
  {
   "cell_type": "code",
   "execution_count": 2,
   "metadata": {},
   "outputs": [],
   "source": [
    "transform = Compose([ToTensor(), nn.Flatten(start_dim=0)])\n",
    "dataset = MNIST('../dataset', transform=transform, download=True)\n",
    "loader = DataLoader(dataset, batch_size=128)"
   ]
  },
  {
   "cell_type": "code",
   "execution_count": 10,
   "metadata": {},
   "outputs": [],
   "source": [
    "from Sparse import ReLUWithSparsity\n",
    "\n",
    "model = nn.Sequential(*[\n",
    "    nn.Linear(28*28, 16*16),\n",
    "    ReLUWithSparsity(beta=1e-1, rho=0.33),\n",
    "    nn.Linear(16*16, 8*8),\n",
    "    ReLUWithSparsity(beta=1e-1, rho=0.33),\n",
    "    nn.Linear(8*8, 16*16),\n",
    "    ReLUWithSparsity(beta=1e-1, rho=0.33),\n",
    "    # nn.BatchNorm1d(12*12),\n",
    "    nn.Linear(16*16, 28*28),\n",
    "    nn.Sigmoid()\n",
    "])"
   ]
  },
  {
   "cell_type": "code",
   "execution_count": 11,
   "metadata": {},
   "outputs": [
    {
     "name": "stderr",
     "output_type": "stream",
     "text": [
      "100%|██████████| 5/5 [00:35<00:00,  7.17s/epoch, tls=0.0277]\n"
     ]
    }
   ],
   "source": [
    "from tqdm import tqdm\n",
    "\n",
    "n_epoch = 5\n",
    "optimizer = torch.optim.Adam(model.parameters(), lr=1e-4)\n",
    "criterion = nn.MSELoss()\n",
    "\n",
    "device = 'cuda' if torch.cuda.is_available() else 'cpu'\n",
    "\n",
    "model = model.to(device)\n",
    "\n",
    "epoch_iterator = tqdm(\n",
    "        range(n_epoch),\n",
    "        leave=True,\n",
    "        unit=\"epoch\",\n",
    "        postfix={\"tls\": \"%.4f\" % 1},\n",
    "    )\n",
    "\n",
    "for epoch in epoch_iterator:\n",
    "    for input, _ in loader:\n",
    "        input = input.to(device)\n",
    "\n",
    "        out = model(input)\n",
    "        loss = criterion(out, input)\n",
    "\n",
    "        epoch_iterator.set_postfix(tls=\"%.4f\" % np.mean(loss.detach().item()))\n",
    "\n",
    "        optimizer.zero_grad()\n",
    "        loss.backward()\n",
    "        optimizer.step()"
   ]
  },
  {
   "cell_type": "code",
   "execution_count": 12,
   "metadata": {},
   "outputs": [],
   "source": [
    "from torchvision.transforms import ToPILImage\n",
    "\n",
    "to_img = ToPILImage()\n",
    "img_in = to_img(input[0].cpu().reshape(1,28,28))\n",
    "img_out = to_img(out[0].cpu().reshape(1,28,28))"
   ]
  },
  {
   "cell_type": "code",
   "execution_count": 13,
   "metadata": {},
   "outputs": [
    {
     "data": {
      "image/png": "[encoded data removed]",
      "text/plain": [
       "<Figure size 432x288 with 1 Axes>"
      ]
     },
     "metadata": {
      "needs_background": "light"
     },
     "output_type": "display_data"
    },
    {
     "data": {
      "image/png": "[encoded data removed]",
      "text/plain": [
       "<Figure size 432x288 with 1 Axes>"
      ]
     },
     "metadata": {
      "needs_background": "light"
     },
     "output_type": "display_data"
    }
   ],
   "source": [
    "from matplotlib import pyplot as plt\n",
    "plt.imshow(img_in)\n",
    "plt.show()\n",
    "plt.imshow(img_out)\n",
    "plt.show()"
   ]
  },
  {
   "cell_type": "code",
   "execution_count": 14,
   "metadata": {},
   "outputs": [
    {
     "data": {
      "text/plain": [
       "tensor(193, device='cuda:0')"
      ]
     },
     "execution_count": 14,
     "metadata": {},
     "output_type": "execute_result"
    }
   ],
   "source": [
    "test = model[:2](input)\n",
    "(test[0]>0).sum()"
   ]
  },
  {
   "cell_type": "code",
   "execution_count": 15,
   "metadata": {},
   "outputs": [
    {
     "data": {
      "image/png": "[encoded data removed]",
      "text/plain": [
       "<Figure size 432x288 with 4 Axes>"
      ]
     },
     "metadata": {
      "needs_background": "light"
     },
     "output_type": "display_data"
    }
   ],
   "source": [
    "plt.subplot(1,4, 1)\n",
    "plt.imshow(test[0].detach().cpu().reshape(16,16))\n",
    "plt.subplot(1,4, 2)\n",
    "plt.imshow(test[1].detach().cpu().reshape(16,16))\n",
    "plt.subplot(1,4, 3)\n",
    "plt.imshow(test[3].detach().cpu().reshape(16,16))\n",
    "plt.subplot(1,4, 4)\n",
    "plt.imshow(test[4].detach().cpu().reshape(16,16))\n",
    "plt.show()"
   ]
  },
  {
   "cell_type": "code",
   "execution_count": 16,
   "metadata": {},
   "outputs": [
    {
     "data": {
      "text/plain": [
       "tensor([[1.2988, 0.1792, 0.0000,  ..., 1.6887, 0.0000, 1.7168],\n",
       "        [1.8267, 0.5992, 0.0000,  ..., 1.1410, 1.7359, 1.3392],\n",
       "        [3.0103, 0.3758, 0.0000,  ..., 1.0756, 2.5721, 2.3930],\n",
       "        ...,\n",
       "        [3.1374, 0.0000, 0.0000,  ..., 2.4234, 1.8579, 1.6060],\n",
       "        [1.7489, 1.0278, 0.0000,  ..., 1.1863, 3.8172, 1.7082],\n",
       "        [2.9924, 0.0000, 0.0000,  ..., 1.0276, 1.9983, 0.5949]],\n",
       "       device='cuda:0', grad_fn=<sparse_reluBackward>)"
      ]
     },
     "execution_count": 16,
     "metadata": {},
     "output_type": "execute_result"
    }
   ],
   "source": [
    "test"
   ]
  },
  {
   "cell_type": "code",
   "execution_count": 17,
   "metadata": {},
   "outputs": [
    {
     "data": {
      "text/plain": [
       "256"
      ]
     },
     "execution_count": 17,
     "metadata": {},
     "output_type": "execute_result"
    }
   ],
   "source": [
    "16*16"
   ]
  },
  {
   "cell_type": "code",
   "execution_count": null,
   "metadata": {},
   "outputs": [],
   "source": []
  }
 ],
 "metadata": {
  "kernelspec": {
   "display_name": "Python 3.9.7 ('HySpecLab')",
   "language": "python",
   "name": "python3"
  },
  "language_info": {
   "codemirror_mode": {
    "name": "ipython",
    "version": 3
   },
   "file_extension": ".py",
   "mimetype": "text/x-python",
   "name": "python",
   "nbconvert_exporter": "python",
   "pygments_lexer": "ipython3",
   "version": "3.9.7"
  },
  "orig_nbformat": 4,
  "vscode": {
   "interpreter": {
    "hash": "bc81a3ec444beb1d5a523daf231afa571e79be8a57abb6fe0028623a3d4d7136"
   }
  }
 },
 "nbformat": 4,
 "nbformat_minor": 2
}
