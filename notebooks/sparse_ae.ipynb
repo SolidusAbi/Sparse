{
 "cells": [
  {
   "cell_type": "code",
   "execution_count": null,
   "metadata": {},
   "outputs": [],
   "source": [
    "import os, sys\n",
    "project_dir = os.path.join(os.getcwd(),'..')\n",
    "if project_dir not in sys.path:\n",
    "    sys.path.append(project_dir)\n",
    "\n",
    "import numpy as np\n",
    "import torch\n",
    "from torch import nn\n",
    "\n",
    "from torch.utils.data import DataLoader\n",
    "from torchvision.datasets import MNIST\n",
    "from torchvision.transforms import Compose, ToTensor"
   ]
  },
  {
   "cell_type": "code",
   "execution_count": null,
   "metadata": {},
   "outputs": [],
   "source": [
    "transform = Compose([ToTensor(), nn.Flatten(start_dim=0)])\n",
    "dataset = MNIST('../dataset', transform=transform, download=True)\n",
    "loader = DataLoader(dataset, batch_size=128)"
   ]
  },
  {
   "cell_type": "code",
   "execution_count": null,
   "metadata": {},
   "outputs": [],
   "source": [
    "from Sparse import ReLUWithSparsity\n",
    "\n",
    "model = nn.Sequential(*[\n",
    "    nn.Linear(28*28, 28*28),\n",
    "    ReLUWithSparsity(beta=1e-6, rho=0.05),\n",
    "    nn.BatchNorm1d(28*28),\n",
    "    nn.Linear(28*28, 28*28),\n",
    "    nn.ReLU(inplace=True)\n",
    "])"
   ]
  },
  {
   "cell_type": "code",
   "execution_count": null,
   "metadata": {},
   "outputs": [],
   "source": [
    "from tqdm import tqdm\n",
    "\n",
    "n_epoch = 5\n",
    "optimizer = torch.optim.Adam(model.parameters(), lr=1e-4, weight_decay=1e-6)\n",
    "criterion = nn.MSELoss()\n",
    "\n",
    "device = 'cuda' if torch.cuda.is_available() else 'cpu'\n",
    "\n",
    "model = model.to(device)\n",
    "\n",
    "epoch_iterator = tqdm(\n",
    "        range(n_epoch),\n",
    "        leave=True,\n",
    "        unit=\"epoch\",\n",
    "        postfix={\"tls\": \"%.4f\" % 1},\n",
    "    )\n",
    "\n",
    "for epoch in epoch_iterator:\n",
    "    for input, _ in loader:\n",
    "        input = input.to(device)\n",
    "\n",
    "        out = model(input)\n",
    "        loss = criterion(out, input)\n",
    "\n",
    "        epoch_iterator.set_postfix(tls=\"%.4f\" % np.mean(loss.detach().item()))\n",
    "\n",
    "        optimizer.zero_grad()\n",
    "        loss.backward()\n",
    "        optimizer.step()"
   ]
  },
  {
   "cell_type": "code",
   "execution_count": null,
   "metadata": {},
   "outputs": [],
   "source": [
    "from torchvision.transforms import ToPILImage\n",
    "\n",
    "to_img = ToPILImage()\n",
    "img_in = to_img(input[0].reshape(1,28,28))\n",
    "img_out = to_img(out[0].reshape(1,28,28))"
   ]
  },
  {
   "cell_type": "code",
   "execution_count": null,
   "metadata": {},
   "outputs": [],
   "source": [
    "from matplotlib import pyplot as plt\n",
    "plt.imshow(img_in)\n",
    "plt.show()\n",
    "plt.imshow(img_out)\n",
    "plt.show()"
   ]
  },
  {
   "cell_type": "code",
   "execution_count": null,
   "metadata": {},
   "outputs": [],
   "source": [
    "test = model[:2](input)\n",
    "(test[0]>0).sum()"
   ]
  },
  {
   "cell_type": "code",
   "execution_count": null,
   "metadata": {},
   "outputs": [],
   "source": [
    "plt.subplot(1,4, 1)\n",
    "plt.imshow(test[0].detach().cpu().reshape(28,28))\n",
    "plt.subplot(1,4, 2)\n",
    "plt.imshow(test[1].detach().cpu().reshape(28,28))\n",
    "plt.subplot(1,4, 3)\n",
    "plt.imshow(test[3].detach().cpu().reshape(28,28))\n",
    "plt.subplot(1,4, 4)\n",
    "plt.imshow(test[4].detach().cpu().reshape(28,28))\n",
    "plt.show()"
   ]
  },
  {
   "cell_type": "code",
   "execution_count": null,
   "metadata": {},
   "outputs": [],
   "source": []
  }
 ],
 "metadata": {
  "interpreter": {
   "hash": "1d9b8aa8d774518be7ebcfd06a2463a8035a66798fac49b1a363f570d2d8622e"
  },
  "kernelspec": {
   "display_name": "Python 3.8.8 64-bit ('DeepLearning': conda)",
   "language": "python",
   "name": "python3"
  },
  "language_info": {
   "codemirror_mode": {
    "name": "ipython",
    "version": 3
   },
   "file_extension": ".py",
   "mimetype": "text/x-python",
   "name": "python",
   "nbconvert_exporter": "python",
   "pygments_lexer": "ipython3",
   "version": "3.8.8"
  },
  "orig_nbformat": 4
 },
 "nbformat": 4,
 "nbformat_minor": 2
}
