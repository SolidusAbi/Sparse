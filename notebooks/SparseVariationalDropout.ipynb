{
 "cells": [
  {
   "cell_type": "code",
   "execution_count": null,
   "metadata": {},
   "outputs": [],
   "source": [
    "import torch\n",
    "from torch import nn"
   ]
  },
  {
   "cell_type": "markdown",
   "metadata": {},
   "source": [
    "https://github.com/bayesgroup/variational-dropout-sparsifies-dnn"
   ]
  },
  {
   "cell_type": "code",
   "execution_count": null,
   "metadata": {},
   "outputs": [],
   "source": [
    "def compute_log_alpha(log_sigma, theta):\n",
    "  r''' \n",
    "      Compute the log \\alpha values from \\theta and log \\sigma^2.\n",
    "\n",
    "      The relationship between \\sigma^2, \\theta, and \\alpha as defined in the\n",
    "      paper https://arxiv.org/abs/1701.05369 is \\sigma^2 = \\alpha * \\theta^2.\n",
    "\n",
    "      This method calculates the log \\alpha values based on this relation:\n",
    "        \\log(\\alpha) = 2*\\log(\\sigma) - 2*\\log(\\theta)\n",
    "  ''' \n",
    "  log_alpha = log_sigma * 2.0 - 2.0 * torch.log(1e-16 + torch.abs(theta))\n",
    "  log_alpha = torch.clamp(log_alpha, -10, 10) # clipping for a numerical stability\n",
    "  return log_alpha\n",
    "\n"
   ]
  },
  {
   "cell_type": "code",
   "execution_count": null,
   "metadata": {},
   "outputs": [],
   "source": [
    "import numpy as np\n",
    "from torch.nn.parameter import Parameter\n",
    "import torch.nn.functional as F\n",
    "# Linear Sparse Variational Dropout\n",
    "# See https://arxiv.org/pdf/1701.05369.pdf for details\n",
    "class LinearSVD(nn.Linear):\n",
    "    def __init__(self, in_features, out_features, p_threshold = 0.952572, bias=True) -> None:\n",
    "        r'''\n",
    "            Parameters\n",
    "            ----------\n",
    "                in_features: int,\n",
    "                    Number of input features.\n",
    "\n",
    "                out_features: int,\n",
    "                    Number of output features.\n",
    "                \n",
    "                p_threshold: float,\n",
    "                    It consists in the \\rho (binary dropout rate) threshold used in order to discard the weight.\n",
    "                    In this approach, an Gaussian Dropout is being used which std is \\alpha = \\rho/(1-\\rho) so, \n",
    "                    Infinitely large \\sigma_{ij} corresponds to infinitely large multiplicative noise in w_{ij}. By \n",
    "                    default, the threshold is set to 0.952572 (\\log(\\sigma) ~ 3).\n",
    "\n",
    "                bias: bool,\n",
    "                    If True, adds a bias term to the output.\n",
    "        '''\n",
    "        super(LinearSVD, self).__init__(in_features, out_features, bias)\n",
    "    \n",
    "        self.log_alpha_threshold = np.log(p_threshold / (1-p_threshold))\n",
    "        self.log_sigma = Parameter(torch.Tensor(out_features, in_features))\n",
    "\n",
    "        self.log_sigma.data.fill_(-5) # Initialization based on the paper, Figure 1\n",
    "    \n",
    "    def forward(self, x: torch.Tensor) -> torch.Tensor:\n",
    "        self.log_alpha = compute_log_alpha(self.log_sigma, torch.abs(self.weight))\n",
    "        \n",
    "        if self.training:\n",
    "            # LRT = local reparametrization trick (For details, see https://arxiv.org/pdf/1506.02557.pdf)\n",
    "            lrt_mean =  F.linear(x, self.weight, self.bias)\n",
    "            lrt_std = torch.sqrt(F.linear(x * x, torch.exp(self.log_sigma * 2.0)) + 1e-8)\n",
    "            eps = torch.normal(0, torch.ones_like(lrt_std))\n",
    "            return lrt_mean + lrt_std * eps\n",
    "        \n",
    "        return F.linear(x, self.weight * (self.log_alpha < self.log_alpha_threshold).float(), self.bias)\n",
    "\n",
    "    def kl_reg(self):\n",
    "        k1, k2, k3 = torch.Tensor([0.63576]).cuda(), torch.Tensor([1.8732]).cuda(), torch.Tensor([1.48695]).cuda()\n",
    "        k1, k2, k3 = torch.Tensor([0.63576]).cuda(), torch.Tensor([1.8732]).cuda(), torch.Tensor([1.48695]).cuda()\n",
    "        kl = k1 * torch.sigmoid(k2 + k3 * self.log_alpha) - 0.5 * torch.log1p(torch.exp(-self.log_alpha))\n",
    "        return -(torch.sum(kl))"
   ]
  },
  {
   "cell_type": "code",
   "execution_count": null,
   "metadata": {},
   "outputs": [],
   "source": [
    "# Loss function \n",
    "from torch.nn.functional import cross_entropy\n",
    "class SGVBL(nn.Module):\n",
    "    ''' \n",
    "        Stocastich Gradient Variational Bayes (SGVB) Loss function.\n",
    "        More details in https://arxiv.org/pdf/1506.02557.pdf and https://arxiv.org/pdf/1312.6114.pdf\n",
    "    '''\n",
    "\n",
    "    def __init__(self, model, train_size, loss=cross_entropy):\n",
    "        super(SGVBL, self).__init__()\n",
    "        self.train_size = train_size\n",
    "        self.net = model\n",
    "        self.loss = loss\n",
    "\n",
    "        self.variational_layers = []\n",
    "        for module in model.modules():\n",
    "            if isinstance(module, (LinearSVD)):\n",
    "                self.variational_layers.append(module)\n",
    "\n",
    "    def forward(self, input, target, kl_weight=1.0):\n",
    "        assert not target.requires_grad\n",
    "        kl = 0.0\n",
    "        for layer in self.variational_layers:\n",
    "            kl += layer.kl_reg()\n",
    "        # for module in self.net.children():\n",
    "        #     if hasattr(module, 'kl_reg'):\n",
    "        #         kl = kl + module.kl_reg()\n",
    "\n",
    "        # return self.loss(input, target) * self.train_size + kl_weight * kl    \n",
    "        return self.loss(input, target) + (kl_weight/self.train_size) * kl # Lo vi en concrete dropout que el kl_weight es 1/train_size"
   ]
  },
  {
   "cell_type": "code",
   "execution_count": null,
   "metadata": {},
   "outputs": [],
   "source": [
    "# Define a simple 2 layer Network\n",
    "class Net(nn.Module):\n",
    "    def __init__(self, threshold):\n",
    "        super(Net, self).__init__()\n",
    "        self.fc1 = LinearSVD(28*28, 300, threshold)\n",
    "        self.fc2 = LinearSVD(300,  100, threshold)\n",
    "        self.fc3 = LinearSVD(100,  10, threshold)\n",
    "        self.threshold=threshold\n",
    "\n",
    "    def forward(self, x):\n",
    "        x = F.relu(self.fc1(x))\n",
    "        x = F.relu(self.fc2(x))\n",
    "        # x = F.log_softmax(self.fc3(x), dim=1)\n",
    "        x = self.fc3(x)\n",
    "        return x"
   ]
  },
  {
   "cell_type": "code",
   "execution_count": null,
   "metadata": {},
   "outputs": [],
   "source": [
    "from torchvision.datasets import MNIST\n",
    "from torchvision import transforms\n",
    "from torch.utils.data import DataLoader\n",
    "\n",
    "transform = transforms.Compose([\n",
    "    transforms.ToTensor(),\n",
    "    transforms.Normalize((0.1307,), (0.3081,))\n",
    "])\n",
    "train_dataset = MNIST(root='./data', train=True, download=True, transform=transform)\n",
    "test_dataset = MNIST(root='./data', train=False, download=True, transform=transform)\n",
    "\n",
    "train_loader = DataLoader(train_dataset, batch_size=64, shuffle=True)\n",
    "test_loader = DataLoader(test_dataset, batch_size=64, shuffle=False)"
   ]
  },
  {
   "cell_type": "code",
   "execution_count": null,
   "metadata": {},
   "outputs": [],
   "source": [
    "from torch.optim import Adam\n",
    "model = Net(threshold=.95).cuda()\n",
    "optimizer = Adam(model.parameters(), lr=1e-3)\n",
    "scheduler = torch.optim.lr_scheduler.MultiStepLR(optimizer, milestones=[50,60,70,80], gamma=0.2)\n",
    "\n",
    "sgvlb = SGVBL(model, len(train_loader.dataset)).cuda()"
   ]
  },
  {
   "cell_type": "code",
   "execution_count": null,
   "metadata": {},
   "outputs": [],
   "source": [
    "from torch.utils.tensorboard import SummaryWriter\n",
    "import time\n",
    "kl_weight = 0.02\n",
    "epochs = 100\n",
    "\n",
    "logger = SummaryWriter('log/sparse_vd')\n",
    "\n",
    "for epoch in range(1, epochs + 1):\n",
    "    time_start = time.perf_counter()\n",
    "    model.train()\n",
    "    train_loss, train_acc = 0, 0 \n",
    "    kl_weight = min(kl_weight+0.02, 1)\n",
    "    logger.add_scalar('kl', kl_weight, epoch)\n",
    "    logger.add_scalar('lr', scheduler.get_lr()[0], epoch)\n",
    "    for batch_idx, (data, target) in enumerate(train_loader):\n",
    "        data = data.cuda()\n",
    "        target = target.cuda()\n",
    "        \n",
    "        data = data.view(-1, 28*28)\n",
    "        optimizer.zero_grad()\n",
    "        \n",
    "        output = model(data)\n",
    "        pred = output.data.max(1)[1] \n",
    "        loss = sgvlb(output, target, kl_weight)\n",
    "        loss.backward()\n",
    "        optimizer.step()\n",
    "        \n",
    "        train_loss += float(loss) \n",
    "        train_acc += np.sum(pred.cpu().numpy() == target.cpu().data.numpy())\n",
    "\n",
    "    scheduler.step()\n",
    "\n",
    "    logger.add_scalar('tr_loss', train_loss / len(train_loader.dataset), epoch)\n",
    "    logger.add_scalar('tr_acc', train_acc / len(train_loader.dataset) * 100, epoch)\n",
    "\n",
    "    model.eval()\n",
    "    test_loss, test_acc = 0, 0\n",
    "    for batch_idx, (data, target) in enumerate(test_loader):\n",
    "        data = data.cuda()\n",
    "        target = target.cuda()\n",
    "        data = data.view(-1, 28*28)\n",
    "        output = model(data)\n",
    "        test_loss += float(sgvlb(output, target, kl_weight))\n",
    "        pred = output.data.max(1)[1] \n",
    "        test_acc += np.sum(pred.cpu().numpy() == target.cpu().data.numpy())\n",
    "        \n",
    "    logger.add_scalar('te_loss', test_loss / len(test_loader.dataset), epoch)\n",
    "    logger.add_scalar('te_acc', test_acc / len(test_loader.dataset) * 100, epoch)\n",
    "    \n",
    "    for i, c in enumerate(model.children()):\n",
    "        if hasattr(c, 'kl_reg'):\n",
    "            logger.add_scalar('sp_%s' % i, (c.log_alpha.cpu().data.numpy() > model.threshold).mean(), epoch)\n",
    "    \n",
    "    logger.add_scalar('time', time.perf_counter() - time_start, epoch)"
   ]
  },
  {
   "cell_type": "code",
   "execution_count": null,
   "metadata": {},
   "outputs": [],
   "source": [
    "from torch.nn import CrossEntropyLoss\n",
    "ce_loss = CrossEntropyLoss()\n",
    "output = model(data)\n",
    "\n",
    "ce_loss(output, target)*len(train_dataset)"
   ]
  },
  {
   "cell_type": "code",
   "execution_count": null,
   "metadata": {},
   "outputs": [],
   "source": [
    "kl = 0.0\n",
    "for module in model.modules():\n",
    "    if hasattr(module, 'kl_reg'):\n",
    "        kl = kl + module.kl_reg()\n",
    "\n",
    "print(kl)"
   ]
  },
  {
   "cell_type": "code",
   "execution_count": null,
   "metadata": {},
   "outputs": [],
   "source": [
    "np.log(1e-6)"
   ]
  },
  {
   "cell_type": "code",
   "execution_count": null,
   "metadata": {},
   "outputs": [],
   "source": [
    "a = torch.rand((3,2))\n",
    "b = torch.rand((3,2))\n",
    "\n",
    "(a*b).sum(dim=1)"
   ]
  },
  {
   "cell_type": "markdown",
   "metadata": {},
   "source": [
    "# Convolutional Variational Dropout Layerç"
   ]
  },
  {
   "cell_type": "code",
   "execution_count": null,
   "metadata": {},
   "outputs": [],
   "source": [
    "import torch\n",
    "from torch import nn\n",
    "import numpy as np\n",
    "from torch.nn.parameter import Parameter\n",
    "\n",
    "class Conv2dSVD(nn.Conv2d):\n",
    "    '''\n",
    "        Convolutional layer with SVD regularization.\n",
    "    '''\n",
    "    def __init__(self, in_channels, out_channels, kernel_size, p_threshold = 0.952572, **kargs):\n",
    "        super(Conv2dSVD, self).__init__(in_channels, out_channels, kernel_size, **kargs)\n",
    "\n",
    "        self.log_alpha_threshold = np.log(p_threshold / (1-p_threshold))\n",
    "        self.log_sigma = Parameter(torch.Tensor(self.weight.shape))\n",
    "\n",
    "        self.log_sigma.data.fill_(-5) # Initialization based on the paper, Figure 1\n",
    "\n",
    "    def forward(self, x: torch.Tensor) -> torch.Tensor:\n",
    "        self.log_alpha = compute_log_alpha(self.log_sigma, torch.abs(self.weight))\n",
    "        \n",
    "        if self.training:\n",
    "            # LRT = local reparametrization trick (For details, see https://arxiv.org/pdf/1506.02557.pdf)\n",
    "            lrt_mean =  F.linear(x, self.weight, self.bias)\n",
    "            lrt_std = torch.sqrt(F.linear(x * x, torch.exp(self.log_sigma * 2.0)) + 1e-8)\n",
    "            eps = torch.normal(0, torch.ones_like(lrt_std))\n",
    "            return lrt_mean + lrt_std * eps\n",
    "        \n",
    "        return F.linear(x, self.weight * (self.log_alpha < self.log_alpha_threshold).float(), self.bias)\n",
    "        pass"
   ]
  },
  {
   "cell_type": "code",
   "execution_count": null,
   "metadata": {},
   "outputs": [],
   "source": [
    "model = Conv2dSVD(1,3, kernel_size=3, stride=1, padding=1, bias=True)"
   ]
  },
  {
   "cell_type": "code",
   "execution_count": null,
   "metadata": {},
   "outputs": [],
   "source": [
    "x = torch.rand(2,1,6,6)\n",
    "mean = model._conv_forward(x, model.weight, model.bias).flatten(1)\n",
    "std = model._conv_forward(x*x, torch.exp(model.log_sigma * 2.0), None).flatten(1)"
   ]
  },
  {
   "cell_type": "code",
   "execution_count": null,
   "metadata": {},
   "outputs": [],
   "source": [
    "std"
   ]
  },
  {
   "cell_type": "code",
   "execution_count": null,
   "metadata": {},
   "outputs": [],
   "source": [
    "a = torch.ones((1,1,3,3))-.5\n",
    "a[0,0,0,0] = 1\n",
    "a*a"
   ]
  },
  {
   "cell_type": "code",
   "execution_count": null,
   "metadata": {},
   "outputs": [],
   "source": [
    "sigma = torch.Tensor(a.weight.shape)\n",
    "compute_log_alpha(sigma, a.weight)"
   ]
  },
  {
   "cell_type": "code",
   "execution_count": null,
   "metadata": {},
   "outputs": [],
   "source": [
    "import torch\n",
    "torch.Tensor(a.weight.shape).shape"
   ]
  },
  {
   "cell_type": "code",
   "execution_count": null,
   "metadata": {},
   "outputs": [],
   "source": [
    "import torch\n",
    "y = torch.sigmoid(torch.rand(35,4))\n",
    "p = torch.sigmoid(torch.rand(35,8))"
   ]
  },
  {
   "cell_type": "code",
   "execution_count": null,
   "metadata": {},
   "outputs": [],
   "source": [
    "print(y@y.T)\n",
    "\n",
    "print(p@p.T)"
   ]
  },
  {
   "cell_type": "code",
   "execution_count": null,
   "metadata": {},
   "outputs": [],
   "source": [
    "eps = torch.eye(4, dtype=y.dtype, device=y.device) * 1e-6\n",
    "print(eps)\n",
    "eps = eps.unsqueeze(dim=0).unsqueeze(dim=0)\n",
    "eps"
   ]
  },
  {
   "cell_type": "code",
   "execution_count": null,
   "metadata": {},
   "outputs": [],
   "source": [
    "x = (y@y.T) - y@p.T\n",
    "x = torch.linalg.cholesky(x)\n",
    "# diag = torch.diagonal(x, dim1=-2, dim2=-1)\n",
    "# 2 * torch.sum(torch.log(diag + 1e-8), dim=-1)"
   ]
  },
  {
   "cell_type": "code",
   "execution_count": 2,
   "metadata": {},
   "outputs": [],
   "source": [
    "import torch\n",
    "from torch import sigmoid\n",
    "from torch import nn\n",
    "import numpy as np\n",
    "\n",
    "class LinearSCD(nn.Linear):\n",
    "    r'''\n",
    "        Linear layer with Sparse Concrete Dropout regularization.\n",
    "\n",
    "        Code strongly inspired by: \n",
    "            https://github.com/danielkelshaw/ConcreteDropout/blob/master/condrop/concrete_dropout.py\n",
    "\n",
    "        Note the relationship between the weight regularizer (w_reg) and dropout regularization (drop_reg):\n",
    "        \n",
    "            w_reg/drop_reg = (l^2)/2 \n",
    "        \n",
    "        with prior lengthscale l (number of in_features). \n",
    "        \n",
    "        Note also that the factor of two should be ignored for cross-entropy loss, and used only for the\n",
    "        Euclidean loss.\n",
    "    '''\n",
    "    def __init__(self, in_features, out_features, bias=True, p_threshold = 0.5, w_reg=1e-6, drop_reg=1e-3, init_min=0.2, init_max=0.5):\n",
    "        super(LinearSCD, self).__init__(in_features, out_features, bias)\n",
    "        self.logit_threshold = np.log(p_threshold) - np.log((1-p_threshold))\n",
    "        \n",
    "        logit_init_min = np.log(init_min) - np.log(1. - init_min)\n",
    "        logit_init_max = np.log(init_max) - np.log(1. - init_max)\n",
    "        \n",
    "        # The probability of deactive a neuron.\n",
    "        self.logit_p = nn.Parameter(torch.rand(1) * (logit_init_max - logit_init_min) + logit_init_min)\n",
    "        \n",
    "        # The weight and Dropout regularization term.\n",
    "        self.w_reg = w_reg\n",
    "        self.drop_reg = drop_reg\n",
    "\n",
    "    def concrete_bernoulli(self, x):\n",
    "        # Reparametrization trick\n",
    "        eps = 1e-8\n",
    "        unif_noise = torch.empty(x.size()).uniform_()\n",
    "        p = torch.sigmoid(self.logit_p)\n",
    "        tmp = .1\n",
    "\n",
    "        drop_prob = (torch.log(p + eps) - torch.log((1-p) + eps) + torch.log(unif_noise + eps)\n",
    "        - torch.log((1. - unif_noise) + eps))\n",
    "        drop_prob = torch.sigmoid(drop_prob / tmp)\n",
    "\n",
    "        random_tensor = 1 - drop_prob\n",
    "        retain_prob = 1 - p # rescale factor typical for dropout\n",
    "        return torch.mul(x, random_tensor) / retain_prob\n",
    "\n",
    "\n",
    "    def kl_reg(self):\n",
    "        # KL regularization term\n",
    "        # For more deatils, see https://arxiv.org/pdf/1705.07832.pdf\n",
    "        p = torch.sigmoid(self.logit_p)\n",
    "\n",
    "        square_param = torch.sum(torch.pow(self.weight, 2), dim=0)\n",
    "        # if self.bias is not None: # Tiene sentido el bias?!\n",
    "        #     square_param += torch.pow(self.bias, 2)\n",
    "\n",
    "        # Weights regularization divided by (1-p) because of the rescaling \n",
    "        # factor in the dropout distribution.\n",
    "        weights_reg = self.w_reg * square_param / (1.0 - p) \n",
    "\n",
    "        # dropout regularization term (bernolli entropy) \n",
    "        l = self.weight.size(1)\n",
    "        dropout_reg = (p * torch.log(p) + (1.0 - p) * torch.log(1.0 - p))\n",
    "        dropout_reg = (self.drop_reg * l) * dropout_reg\n",
    "\n",
    "        kl_reg = torch.sum(weights_reg + dropout_reg)\n",
    "        return kl_reg\n"
   ]
  },
  {
   "cell_type": "code",
   "execution_count": 8,
   "metadata": {},
   "outputs": [],
   "source": [
    "from torch.nn import functional as F\n",
    "class Net(nn.Module):\n",
    "    def __init__(self, threshold):\n",
    "        super(Net, self).__init__()\n",
    "        l = 1e-4\n",
    "        wr = l**2.\n",
    "        dr = 1e-6 # 2 for euclidean loss and 1 for cross-entropy loss\n",
    "        self.fc1 = LinearSCD(10*10, 48, bias=False, p_threshold = threshold, w_reg=wr, drop_reg=dr)\n",
    "        self.fc2 = LinearSCD(48,  24, bias=True, p_threshold = threshold, w_reg=wr, drop_reg=dr)\n",
    "        self.fc3 = LinearSCD(24,  10, bias=True, p_threshold = threshold, w_reg=wr, drop_reg=dr)\n",
    "        self.threshold=threshold\n",
    "\n",
    "    def forward(self, x):\n",
    "        x = F.relu(self.fc1(x))\n",
    "        x = F.relu(self.fc2(x))\n",
    "        x = self.fc3(x)\n",
    "        return x"
   ]
  },
  {
   "cell_type": "code",
   "execution_count": 9,
   "metadata": {},
   "outputs": [],
   "source": [
    "# Loss function \n",
    "from torch.nn.functional import cross_entropy\n",
    "class SGVBL(nn.Module):\n",
    "    ''' \n",
    "        Stocastich Gradient Variational Bayes (SGVB) Loss function.\n",
    "        More details in https://arxiv.org/pdf/1506.02557.pdf and https://arxiv.org/pdf/1312.6114.pdf\n",
    "    '''\n",
    "\n",
    "    def __init__(self, model, train_size, loss=cross_entropy):\n",
    "        super(SGVBL, self).__init__()\n",
    "        self.train_size = train_size\n",
    "        self.net = model\n",
    "        self.loss = loss\n",
    "\n",
    "        self.variational_layers = []\n",
    "        for module in model.modules():\n",
    "            if isinstance(module, (LinearSCD)):\n",
    "                self.variational_layers.append(module)\n",
    "\n",
    "    def forward(self, input, target, kl_weight=1.0):\n",
    "        assert not target.requires_grad\n",
    "        kl = 0.0\n",
    "        for layer in self.variational_layers:\n",
    "            kl += layer.kl_reg()\n",
    "        # for module in self.net.children():\n",
    "        #     if hasattr(module, 'kl_reg'):\n",
    "        #         kl = kl + module.kl_reg()\n",
    "\n",
    "        return self.loss(input, target) * self.train_size + kl_weight * kl    \n",
    "        # return self.loss(input, target) + (kl_weight/self.train_size) * kl # Lo vi en \"concrete dropout\" que el kl_weight es 1/train_size"
   ]
  },
  {
   "cell_type": "code",
   "execution_count": 10,
   "metadata": {},
   "outputs": [],
   "source": [
    "from torchvision.datasets import MNIST\n",
    "from torchvision import transforms\n",
    "from torch.utils.data import DataLoader\n",
    "\n",
    "transform = transforms.Compose([\n",
    "    transforms.Resize((10, 10)),\n",
    "    transforms.ToTensor(),\n",
    "    transforms.Normalize((0.1307,), (0.3081,)),\n",
    "])\n",
    "train_dataset = MNIST(root='./data', train=True, download=True, transform=transform)\n",
    "test_dataset = MNIST(root='./data', train=False, download=True, transform=transform)\n",
    "\n",
    "train_loader = DataLoader(train_dataset, batch_size=64, shuffle=True)\n",
    "test_loader = DataLoader(test_dataset, batch_size=64, shuffle=False)"
   ]
  },
  {
   "cell_type": "code",
   "execution_count": 11,
   "metadata": {},
   "outputs": [],
   "source": [
    "from torch.optim import Adam\n",
    "model = Net(threshold=.95).cuda()\n",
    "optimizer = Adam(model.parameters(), lr=1e-3)\n",
    "scheduler = torch.optim.lr_scheduler.MultiStepLR(optimizer, milestones=[50,60,70,80], gamma=0.2)\n",
    "\n",
    "sgvlb = SGVBL(model, len(train_loader.dataset)).cuda()"
   ]
  },
  {
   "cell_type": "code",
   "execution_count": 12,
   "metadata": {},
   "outputs": [
    {
     "name": "stderr",
     "output_type": "stream",
     "text": [
      "/home/abian/Workspace/Anaconda/envs/HySpecLab/lib/python3.9/site-packages/torch/optim/lr_scheduler.py:416: UserWarning: To get the last learning rate computed by the scheduler, please use `get_last_lr()`.\n",
      "  warnings.warn(\"To get the last learning rate computed by the scheduler, \"\n"
     ]
    },
    {
     "ename": "KeyboardInterrupt",
     "evalue": "",
     "output_type": "error",
     "traceback": [
      "\u001b[0;31m---------------------------------------------------------------------------\u001b[0m",
      "\u001b[0;31mKeyboardInterrupt\u001b[0m                         Traceback (most recent call last)",
      "\u001b[0;32m/tmp/ipykernel_5592/177757042.py\u001b[0m in \u001b[0;36m<module>\u001b[0;34m\u001b[0m\n\u001b[1;32m     25\u001b[0m         \u001b[0moutput\u001b[0m \u001b[0;34m=\u001b[0m \u001b[0mmodel\u001b[0m\u001b[0;34m(\u001b[0m\u001b[0mdata\u001b[0m\u001b[0;34m)\u001b[0m\u001b[0;34m\u001b[0m\u001b[0;34m\u001b[0m\u001b[0m\n\u001b[1;32m     26\u001b[0m         \u001b[0mpred\u001b[0m \u001b[0;34m=\u001b[0m \u001b[0moutput\u001b[0m\u001b[0;34m.\u001b[0m\u001b[0mdata\u001b[0m\u001b[0;34m.\u001b[0m\u001b[0mmax\u001b[0m\u001b[0;34m(\u001b[0m\u001b[0;36m1\u001b[0m\u001b[0;34m)\u001b[0m\u001b[0;34m[\u001b[0m\u001b[0;36m1\u001b[0m\u001b[0;34m]\u001b[0m\u001b[0;34m\u001b[0m\u001b[0;34m\u001b[0m\u001b[0m\n\u001b[0;32m---> 27\u001b[0;31m         \u001b[0mloss\u001b[0m \u001b[0;34m=\u001b[0m \u001b[0msgvlb\u001b[0m\u001b[0;34m(\u001b[0m\u001b[0moutput\u001b[0m\u001b[0;34m,\u001b[0m \u001b[0mtarget\u001b[0m\u001b[0;34m,\u001b[0m \u001b[0mkl_weight\u001b[0m\u001b[0;34m)\u001b[0m\u001b[0;34m\u001b[0m\u001b[0;34m\u001b[0m\u001b[0m\n\u001b[0m\u001b[1;32m     28\u001b[0m         \u001b[0mloss\u001b[0m\u001b[0;34m.\u001b[0m\u001b[0mbackward\u001b[0m\u001b[0;34m(\u001b[0m\u001b[0;34m)\u001b[0m\u001b[0;34m\u001b[0m\u001b[0;34m\u001b[0m\u001b[0m\n\u001b[1;32m     29\u001b[0m         \u001b[0moptimizer\u001b[0m\u001b[0;34m.\u001b[0m\u001b[0mstep\u001b[0m\u001b[0;34m(\u001b[0m\u001b[0;34m)\u001b[0m\u001b[0;34m\u001b[0m\u001b[0;34m\u001b[0m\u001b[0m\n",
      "\u001b[0;32m~/Workspace/Anaconda/envs/HySpecLab/lib/python3.9/site-packages/torch/nn/modules/module.py\u001b[0m in \u001b[0;36m_call_impl\u001b[0;34m(self, *input, **kwargs)\u001b[0m\n\u001b[1;32m   1049\u001b[0m         if not (self._backward_hooks or self._forward_hooks or self._forward_pre_hooks or _global_backward_hooks\n\u001b[1;32m   1050\u001b[0m                 or _global_forward_hooks or _global_forward_pre_hooks):\n\u001b[0;32m-> 1051\u001b[0;31m             \u001b[0;32mreturn\u001b[0m \u001b[0mforward_call\u001b[0m\u001b[0;34m(\u001b[0m\u001b[0;34m*\u001b[0m\u001b[0minput\u001b[0m\u001b[0;34m,\u001b[0m \u001b[0;34m**\u001b[0m\u001b[0mkwargs\u001b[0m\u001b[0;34m)\u001b[0m\u001b[0;34m\u001b[0m\u001b[0;34m\u001b[0m\u001b[0m\n\u001b[0m\u001b[1;32m   1052\u001b[0m         \u001b[0;31m# Do not call functions when jit is used\u001b[0m\u001b[0;34m\u001b[0m\u001b[0;34m\u001b[0m\u001b[0m\n\u001b[1;32m   1053\u001b[0m         \u001b[0mfull_backward_hooks\u001b[0m\u001b[0;34m,\u001b[0m \u001b[0mnon_full_backward_hooks\u001b[0m \u001b[0;34m=\u001b[0m \u001b[0;34m[\u001b[0m\u001b[0;34m]\u001b[0m\u001b[0;34m,\u001b[0m \u001b[0;34m[\u001b[0m\u001b[0;34m]\u001b[0m\u001b[0;34m\u001b[0m\u001b[0;34m\u001b[0m\u001b[0m\n",
      "\u001b[0;32m/tmp/ipykernel_5592/2089217554.py\u001b[0m in \u001b[0;36mforward\u001b[0;34m(self, input, target, kl_weight)\u001b[0m\n\u001b[1;32m     22\u001b[0m         \u001b[0mkl\u001b[0m \u001b[0;34m=\u001b[0m \u001b[0;36m0.0\u001b[0m\u001b[0;34m\u001b[0m\u001b[0;34m\u001b[0m\u001b[0m\n\u001b[1;32m     23\u001b[0m         \u001b[0;32mfor\u001b[0m \u001b[0mlayer\u001b[0m \u001b[0;32min\u001b[0m \u001b[0mself\u001b[0m\u001b[0;34m.\u001b[0m\u001b[0mvariational_layers\u001b[0m\u001b[0;34m:\u001b[0m\u001b[0;34m\u001b[0m\u001b[0;34m\u001b[0m\u001b[0m\n\u001b[0;32m---> 24\u001b[0;31m             \u001b[0mkl\u001b[0m \u001b[0;34m+=\u001b[0m \u001b[0mlayer\u001b[0m\u001b[0;34m.\u001b[0m\u001b[0mkl_reg\u001b[0m\u001b[0;34m(\u001b[0m\u001b[0;34m)\u001b[0m\u001b[0;34m\u001b[0m\u001b[0;34m\u001b[0m\u001b[0m\n\u001b[0m\u001b[1;32m     25\u001b[0m         \u001b[0;31m# for module in self.net.children():\u001b[0m\u001b[0;34m\u001b[0m\u001b[0;34m\u001b[0m\u001b[0m\n\u001b[1;32m     26\u001b[0m         \u001b[0;31m#     if hasattr(module, 'kl_reg'):\u001b[0m\u001b[0;34m\u001b[0m\u001b[0;34m\u001b[0m\u001b[0m\n",
      "\u001b[0;32m/tmp/ipykernel_5592/3916955123.py\u001b[0m in \u001b[0;36mkl_reg\u001b[0;34m(self)\u001b[0m\n\u001b[1;32m     68\u001b[0m         \u001b[0mdropout_reg\u001b[0m \u001b[0;34m=\u001b[0m \u001b[0;34m(\u001b[0m\u001b[0mself\u001b[0m\u001b[0;34m.\u001b[0m\u001b[0mdrop_reg\u001b[0m \u001b[0;34m*\u001b[0m \u001b[0ml\u001b[0m\u001b[0;34m)\u001b[0m \u001b[0;34m*\u001b[0m \u001b[0mdropout_reg\u001b[0m\u001b[0;34m\u001b[0m\u001b[0;34m\u001b[0m\u001b[0m\n\u001b[1;32m     69\u001b[0m \u001b[0;34m\u001b[0m\u001b[0m\n\u001b[0;32m---> 70\u001b[0;31m         \u001b[0mkl_reg\u001b[0m \u001b[0;34m=\u001b[0m \u001b[0mtorch\u001b[0m\u001b[0;34m.\u001b[0m\u001b[0msum\u001b[0m\u001b[0;34m(\u001b[0m\u001b[0mweights_reg\u001b[0m \u001b[0;34m+\u001b[0m \u001b[0mdropout_reg\u001b[0m\u001b[0;34m)\u001b[0m\u001b[0;34m\u001b[0m\u001b[0;34m\u001b[0m\u001b[0m\n\u001b[0m\u001b[1;32m     71\u001b[0m         \u001b[0;32mreturn\u001b[0m \u001b[0mkl_reg\u001b[0m\u001b[0;34m\u001b[0m\u001b[0;34m\u001b[0m\u001b[0m\n",
      "\u001b[0;31mKeyboardInterrupt\u001b[0m: "
     ]
    }
   ],
   "source": [
    "from torch.utils.tensorboard import SummaryWriter\n",
    "import time\n",
    "kl_weight = 0.02\n",
    "epochs = 100\n",
    "\n",
    "logger = SummaryWriter('log/sparse_scd')\n",
    "\n",
    "device = 'cuda' if torch.cuda.is_available() else 'cpu'\n",
    "model = model.to(device)\n",
    "\n",
    "for epoch in range(1, epochs + 1):\n",
    "    time_start = time.perf_counter()\n",
    "    model.train()\n",
    "    train_loss, train_acc = 0, 0 \n",
    "    kl_weight = min(kl_weight+0.02, 1)\n",
    "    logger.add_scalar('kl', kl_weight, epoch)\n",
    "    logger.add_scalar('lr', scheduler.get_lr()[0], epoch)\n",
    "    for batch_idx, (data, target) in enumerate(train_loader):\n",
    "        data = data.cuda()\n",
    "        target = target.cuda()\n",
    "        \n",
    "        data = data.view(-1, 10*10)\n",
    "        optimizer.zero_grad()\n",
    "        \n",
    "        output = model(data)\n",
    "        pred = output.data.max(1)[1] \n",
    "        loss = sgvlb(output, target, kl_weight)\n",
    "        loss.backward()\n",
    "        optimizer.step()\n",
    "        \n",
    "        train_loss += float(loss) \n",
    "        train_acc += np.sum(pred.cpu().numpy() == target.cpu().data.numpy())\n",
    "\n",
    "    scheduler.step()\n",
    "\n",
    "    logger.add_scalar('tr_loss', train_loss / len(train_loader.dataset), epoch)\n",
    "    logger.add_scalar('tr_acc', train_acc / len(train_loader.dataset) * 100, epoch)\n",
    "\n",
    "    model.eval()\n",
    "    test_loss, test_acc = 0, 0\n",
    "    for batch_idx, (data, target) in enumerate(test_loader):\n",
    "        data = data.cuda()\n",
    "        target = target.cuda()\n",
    "        data = data.view(-1, 10*10)\n",
    "        output = model(data)\n",
    "        test_loss += float(sgvlb(output, target, kl_weight))\n",
    "        pred = output.data.max(1)[1] \n",
    "        test_acc += np.sum(pred.cpu().numpy() == target.cpu().data.numpy())\n",
    "        \n",
    "    logger.add_scalar('te_loss', test_loss / len(test_loader.dataset), epoch)\n",
    "    logger.add_scalar('te_acc', test_acc / len(test_loader.dataset) * 100, epoch)\n",
    "    \n",
    "    # for i, c in enumerate(model.children()):\n",
    "    #     if hasattr(c, 'kl_reg'):\n",
    "    #         logger.add_scalar('sp_%s' % i, (c.log_alpha.cpu().data.numpy() > model.threshold).mean(), epoch)\n",
    "    \n",
    "    logger.add_scalar('time', time.perf_counter() - time_start, epoch)"
   ]
  },
  {
   "cell_type": "code",
   "execution_count": 15,
   "metadata": {},
   "outputs": [
    {
     "data": {
      "text/plain": [
       "tensor(0.4997, device='cuda:0', grad_fn=<MeanBackward0>)"
      ]
     },
     "execution_count": 15,
     "metadata": {},
     "output_type": "execute_result"
    }
   ],
   "source": [
    "torch.sigmoid(model.fc2.logit_p).mean()"
   ]
  },
  {
   "cell_type": "code",
   "execution_count": null,
   "metadata": {},
   "outputs": [],
   "source": [
    "test = model.fc1.weight.data.cpu().detach().numpy()\n",
    "from matplotlib import pyplot as plt\n",
    "\n",
    "plt.hist(test.flatten(), bins=50)\n",
    "plt.show()"
   ]
  },
  {
   "cell_type": "code",
   "execution_count": null,
   "metadata": {},
   "outputs": [],
   "source": [
    "a = model.fc1.weight[model.fc1.weight < 0.1].shape\n",
    "b = model.fc1.weight[model.fc1.weight > -0.1].sum()"
   ]
  },
  {
   "cell_type": "code",
   "execution_count": null,
   "metadata": {},
   "outputs": [],
   "source": [
    "b - a"
   ]
  },
  {
   "cell_type": "code",
   "execution_count": null,
   "metadata": {},
   "outputs": [],
   "source": [
    "model.fc1.weight[model.fc1.weight < 0.01].shape"
   ]
  },
  {
   "cell_type": "code",
   "execution_count": null,
   "metadata": {},
   "outputs": [],
   "source": [
    "model.fc1.weight[model.fc1.weight > -0.01].shape"
   ]
  },
  {
   "cell_type": "code",
   "execution_count": null,
   "metadata": {},
   "outputs": [],
   "source": [
    "28*28"
   ]
  },
  {
   "cell_type": "code",
   "execution_count": null,
   "metadata": {},
   "outputs": [],
   "source": [
    "fc1.weight"
   ]
  }
 ],
 "metadata": {
  "kernelspec": {
   "display_name": "Python 3.9.7 ('HySpecLab')",
   "language": "python",
   "name": "python3"
  },
  "language_info": {
   "codemirror_mode": {
    "name": "ipython",
    "version": 3
   },
   "file_extension": ".py",
   "mimetype": "text/x-python",
   "name": "python",
   "nbconvert_exporter": "python",
   "pygments_lexer": "ipython3",
   "version": "3.9.7"
  },
  "orig_nbformat": 4,
  "vscode": {
   "interpreter": {
    "hash": "bc81a3ec444beb1d5a523daf231afa571e79be8a57abb6fe0028623a3d4d7136"
   }
  }
 },
 "nbformat": 4,
 "nbformat_minor": 2
}
