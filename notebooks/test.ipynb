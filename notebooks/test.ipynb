{
 "cells": [
  {
   "cell_type": "code",
   "execution_count": 8,
   "metadata": {},
   "outputs": [],
   "source": [
    "import torch\n",
    "from torch import sigmoid"
   ]
  },
  {
   "cell_type": "code",
   "execution_count": 9,
   "metadata": {},
   "outputs": [],
   "source": [
    "a = torch.rand((100,100))\n",
    "result = torch.sigmoid(a)"
   ]
  },
  {
   "cell_type": "code",
   "execution_count": 10,
   "metadata": {},
   "outputs": [
    {
     "data": {
      "text/plain": [
       "tensor([[True, True, True,  ..., True, True, True],\n",
       "        [True, True, True,  ..., True, True, True],\n",
       "        [True, True, True,  ..., True, True, True],\n",
       "        ...,\n",
       "        [True, True, True,  ..., True, True, True],\n",
       "        [True, True, True,  ..., True, True, True],\n",
       "        [True, True, True,  ..., True, True, True]])"
      ]
     },
     "execution_count": 10,
     "metadata": {},
     "output_type": "execute_result"
    }
   ],
   "source": [
    "1 / (1 + torch.exp(-a)) == result"
   ]
  },
  {
   "cell_type": "code",
   "execution_count": 11,
   "metadata": {},
   "outputs": [
    {
     "data": {
      "text/plain": [
       "(array([ 886.,  903.,  955.,  918.,  964.,  933., 1065., 1053., 1173.,\n",
       "        1150.]),\n",
       " array([0.5000157, 0.5231187, 0.5462217, 0.5693247, 0.5924277, 0.6155306,\n",
       "        0.6386336, 0.6617366, 0.6848396, 0.7079426, 0.7310456],\n",
       "       dtype=float32),\n",
       " <BarContainer object of 10 artists>)"
      ]
     },
     "execution_count": 11,
     "metadata": {},
     "output_type": "execute_result"
    },
    {
     "data": {
      "image/png": "[encoded data removed]",
      "text/plain": [
       "<Figure size 432x288 with 1 Axes>"
      ]
     },
     "metadata": {
      "needs_background": "light"
     },
     "output_type": "display_data"
    }
   ],
   "source": [
    "from matplotlib import pyplot as plt\n",
    "test = 1 / (1 + torch.exp(-a))\n",
    "plt.hist(test.flatten().numpy())"
   ]
  },
  {
   "cell_type": "code",
   "execution_count": 12,
   "metadata": {},
   "outputs": [
    {
     "data": {
      "image/png": "[encoded data removed]",
      "text/plain": [
       "<Figure size 432x288 with 1 Axes>"
      ]
     },
     "metadata": {
      "needs_background": "light"
     },
     "output_type": "display_data"
    }
   ],
   "source": [
    "a = torch.arange(-6, 6, 0.5)\n",
    "\n",
    "from matplotlib import pyplot as plt\n",
    "test = 1 / (1 + torch.exp(-a))\n",
    "plt.plot(test.numpy())\n",
    "plt.plot(test*(1-test))\n",
    "plt.show()"
   ]
  },
  {
   "cell_type": "code",
   "execution_count": 13,
   "metadata": {},
   "outputs": [
    {
     "data": {
      "text/plain": [
       "tensor([0.0025, 0.0041, 0.0066, 0.0109, 0.0177, 0.0285, 0.0452, 0.0701, 0.1050,\n",
       "        0.1491, 0.1966, 0.2350, 0.2500, 0.2350, 0.1966, 0.1491, 0.1050, 0.0701,\n",
       "        0.0452, 0.0285, 0.0177, 0.0109, 0.0066, 0.0041])"
      ]
     },
     "execution_count": 13,
     "metadata": {},
     "output_type": "execute_result"
    }
   ],
   "source": [
    "test*(1-test)"
   ]
  },
  {
   "cell_type": "code",
   "execution_count": 14,
   "metadata": {},
   "outputs": [],
   "source": [
    "q = torch.rand((2, 10, 3, 3))\n",
    "sigmoid_q = 1 / (1 + torch.exp(-q))"
   ]
  },
  {
   "cell_type": "code",
   "execution_count": 15,
   "metadata": {},
   "outputs": [
    {
     "name": "stdout",
     "output_type": "stream",
     "text": [
      "2\n",
      "tensor([[0.6292, 0.6262, 0.6258, 0.5843, 0.6578, 0.5885, 0.6011, 0.6086, 0.5952,\n",
      "         0.6228],\n",
      "        [0.6544, 0.5728, 0.6383, 0.6120, 0.6333, 0.6484, 0.5966, 0.6253, 0.6313,\n",
      "         0.6214]])\n",
      "tensor([[0.6292, 0.6262, 0.6258, 0.5843, 0.6578, 0.5885, 0.6011, 0.6086, 0.5952,\n",
      "         0.6228],\n",
      "        [0.6544, 0.5728, 0.6383, 0.6120, 0.6333, 0.6484, 0.5966, 0.6253, 0.6313,\n",
      "         0.6214]])\n"
     ]
    }
   ],
   "source": [
    "dim = 2 if len(q.shape) == 4 else 1\n",
    "print(dim)\n",
    "\n",
    "rho_hat = torch.mean(sigmoid(q).flatten(dim), dim)\n",
    "print(rho_hat)\n",
    "rho_hat = torch.mean(sigmoid_q.flatten(dim), dim)\n",
    "print(rho_hat)"
   ]
  },
  {
   "cell_type": "code",
   "execution_count": 16,
   "metadata": {},
   "outputs": [],
   "source": [
    "rho = torch.ones(rho_hat.shape).to(q.device) * 0.05"
   ]
  },
  {
   "cell_type": "code",
   "execution_count": 17,
   "metadata": {},
   "outputs": [
    {
     "data": {
      "text/plain": [
       "tensor([1.5991, 1.3970, 1.5487, 1.3877, 1.6186, 1.4878, 1.3898, 1.4749, 1.4589,\n",
       "        1.4993])"
      ]
     },
     "execution_count": 17,
     "metadata": {},
     "output_type": "execute_result"
    }
   ],
   "source": [
    "torch.sum(rho * torch.log(rho/rho_hat) + (1 - rho) * torch.log((1 - rho)/(1 - rho_hat)), axis=0)"
   ]
  },
  {
   "cell_type": "code",
   "execution_count": 18,
   "metadata": {},
   "outputs": [],
   "source": [
    "def kl_divergence(p: float, q: torch.Tensor, apply_sigmoid=True) -> torch.Tensor:\n",
    "    '''\n",
    "        Kullback-Leibler (KL) divergence between a Bernoulli random variable with mean\n",
    "        p and a Bernoulli random variable with mean q.\n",
    "\n",
    "        For convolutional output tensor (shape B,C,H,W) the kl divergence is estimated per\n",
    "        channel.\n",
    "\n",
    "        Params\n",
    "        ------\n",
    "            p: float\n",
    "                Sparsity parameter, typically a small value close to zero (i.e 0.05).\n",
    "\n",
    "            q: torch.Tensor\n",
    "                The output of a layer.\n",
    "\n",
    "            apply_sigmoid: Bolean\n",
    "                Indicate if it is necessary to apply sigmoid function to q in order to\n",
    "                obtain the probability distribution.\n",
    "        Return\n",
    "        ------\n",
    "            kl divergence estimation: torch.Tensor\n",
    "                In general return a unique value but in convolutional output the tensor\n",
    "                shape is defined by the number of Channels, i.e shape [1, C].\n",
    "    '''\n",
    "    # check if tensor belong to a convolutional output or not\n",
    "    dim = 2 if len(q.shape) == 4 else 1\n",
    "\n",
    "    q = sigmoid(q) if apply_sigmoid else q # sigmoid because we need the probability distributions\n",
    "\n",
    "    rho_hat = torch.mean(q.flatten(dim), dim) \n",
    "    rho = torch.ones(rho_hat.shape).to(q.device) * p\n",
    "    return torch.sum(rho * torch.log(rho/rho_hat) + (1 - rho) * torch.log((1 - rho)/(1 - rho_hat)), axis=0)"
   ]
  },
  {
   "cell_type": "code",
   "execution_count": 19,
   "metadata": {},
   "outputs": [
    {
     "data": {
      "text/plain": [
       "tensor([[[[0.5204, 0.6894, 0.8462],\n",
       "          [0.5096, 0.2619, 0.1275],\n",
       "          [0.9611, 0.5976, 0.3226]],\n",
       "\n",
       "         [[0.0243, 0.5759, 0.3892],\n",
       "          [0.7546, 0.7749, 0.2439],\n",
       "          [0.9142, 0.8179, 0.2426]],\n",
       "\n",
       "         [[0.4861, 0.0712, 0.7065],\n",
       "          [0.9046, 0.1701, 0.5668],\n",
       "          [0.7481, 0.6977, 0.3520]],\n",
       "\n",
       "         [[0.6384, 0.2647, 0.1952],\n",
       "          [0.0114, 0.5329, 0.3284],\n",
       "          [0.1614, 0.9566, 0.0519]],\n",
       "\n",
       "         [[0.8782, 0.5964, 0.7681],\n",
       "          [0.8833, 0.5581, 0.6259],\n",
       "          [0.2795, 0.8141, 0.5258]],\n",
       "\n",
       "         [[0.8692, 0.3799, 0.3555],\n",
       "          [0.6389, 0.1301, 0.0397],\n",
       "          [0.0742, 0.0807, 0.7306]],\n",
       "\n",
       "         [[0.3997, 0.0327, 0.1973],\n",
       "          [0.8987, 0.6455, 0.2544],\n",
       "          [0.6260, 0.6845, 0.0295]],\n",
       "\n",
       "         [[0.7328, 0.7541, 0.6989],\n",
       "          [0.2165, 0.9050, 0.0748],\n",
       "          [0.2298, 0.1059, 0.3448]],\n",
       "\n",
       "         [[0.3472, 0.7462, 0.2902],\n",
       "          [0.2571, 0.4359, 0.6533],\n",
       "          [0.4067, 0.3298, 0.0371]],\n",
       "\n",
       "         [[0.0217, 0.5276, 0.5276],\n",
       "          [0.5796, 0.7168, 0.4213],\n",
       "          [0.4201, 0.5422, 0.7957]]],\n",
       "\n",
       "\n",
       "        [[[0.7900, 0.8241, 0.6302],\n",
       "          [0.2551, 0.7947, 0.5494],\n",
       "          [0.5719, 0.4413, 0.9434]],\n",
       "\n",
       "         [[0.5201, 0.3619, 0.1296],\n",
       "          [0.3472, 0.3958, 0.4847],\n",
       "          [0.1600, 0.2254, 0.0300]],\n",
       "\n",
       "         [[0.6586, 0.4324, 0.5564],\n",
       "          [0.5141, 0.2936, 0.8936],\n",
       "          [0.6362, 0.9276, 0.2594]],\n",
       "\n",
       "         [[0.7650, 0.2746, 0.3741],\n",
       "          [0.2799, 0.2885, 0.9877],\n",
       "          [0.6011, 0.6129, 0.0013]],\n",
       "\n",
       "         [[0.4935, 0.7730, 0.3689],\n",
       "          [0.4438, 0.6304, 0.5716],\n",
       "          [0.5887, 0.7871, 0.2916]],\n",
       "\n",
       "         [[0.4643, 0.6063, 0.5380],\n",
       "          [0.7106, 0.7526, 0.4692],\n",
       "          [0.4275, 0.8838, 0.6838]],\n",
       "\n",
       "         [[0.2045, 0.4855, 0.5142],\n",
       "          [0.2973, 0.5286, 0.5918],\n",
       "          [0.2683, 0.2884, 0.3599]],\n",
       "\n",
       "         [[0.9473, 0.3623, 0.2210],\n",
       "          [0.8231, 0.0746, 0.0133],\n",
       "          [0.6125, 0.8504, 0.8317]],\n",
       "\n",
       "         [[0.9436, 0.4958, 0.7953],\n",
       "          [0.7569, 0.1869, 0.5222],\n",
       "          [0.3824, 0.1757, 0.6560]],\n",
       "\n",
       "         [[0.4179, 0.1920, 0.5139],\n",
       "          [0.8735, 0.7111, 0.5645],\n",
       "          [0.2263, 0.3758, 0.6341]]]])"
      ]
     },
     "execution_count": 19,
     "metadata": {},
     "output_type": "execute_result"
    }
   ],
   "source": [
    "q"
   ]
  },
  {
   "cell_type": "code",
   "execution_count": 20,
   "metadata": {},
   "outputs": [
    {
     "data": {
      "text/plain": [
       "tensor([1.0016, 1.0014, 1.0015, 1.0014, 1.0016, 1.0015, 1.0014, 1.0015, 1.0015,\n",
       "        1.0015])"
      ]
     },
     "execution_count": 20,
     "metadata": {},
     "output_type": "execute_result"
    }
   ],
   "source": [
    "1 + (1e-3*kl_divergence(0.05, q))"
   ]
  },
  {
   "cell_type": "code",
   "execution_count": 29,
   "metadata": {},
   "outputs": [
    {
     "data": {
      "text/plain": [
       "tensor([0.0002, 0.0002, 0.0002, 0.0002, 0.0002, 0.0002, 0.0002, 0.0002, 0.0002,\n",
       "        0.0002])"
      ]
     },
     "execution_count": 29,
     "metadata": {},
     "output_type": "execute_result"
    }
   ],
   "source": [
    "# 1 - torch.exp(-kl_divergence(0.05, q))\n",
    "\n",
    "1e-3*(torch.exp(-(kl_divergence(0.05, q))))"
   ]
  },
  {
   "cell_type": "code",
   "execution_count": 30,
   "metadata": {},
   "outputs": [
    {
     "data": {
      "text/plain": [
       "tensor([0.0004, 0.0004, 0.0004, 0.0004, 0.0004, 0.0004, 0.0004, 0.0004, 0.0004,\n",
       "        0.0004])"
      ]
     },
     "execution_count": 30,
     "metadata": {},
     "output_type": "execute_result"
    }
   ],
   "source": [
    "a = q.clone()\n",
    "a[:] = 0.05\n",
    "# print(1e-3*kl_divergence(0.05, a))\n",
    "1e-3*(torch.exp(-(kl_divergence(0.05, a))))"
   ]
  },
  {
   "cell_type": "code",
   "execution_count": 32,
   "metadata": {},
   "outputs": [
    {
     "name": "stdout",
     "output_type": "stream",
     "text": [
      "tensor([0.0016, 0.0014, 0.0015, 0.0014, 0.0016, 0.0015, 0.0014, 0.0015, 0.0015,\n",
      "        0.0015])\n",
      "tensor([0.0010, 0.0010, 0.0010, 0.0010, 0.0010, 0.0010, 0.0010, 0.0010, 0.0010,\n",
      "        0.0010])\n"
     ]
    }
   ],
   "source": [
    "print(1e-3*kl_divergence(0.05, q))\n",
    "print(1e-3*kl_divergence(0.05, a))"
   ]
  },
  {
   "cell_type": "code",
   "execution_count": 91,
   "metadata": {},
   "outputs": [
    {
     "data": {
      "text/plain": [
       "tensor([1.5125, 1.4412, 1.4672, 1.5082, 1.5662, 1.3976, 1.3505, 1.4790, 1.6120,\n",
       "        1.5231])"
      ]
     },
     "execution_count": 91,
     "metadata": {},
     "output_type": "execute_result"
    }
   ],
   "source": [
    "kl_divergence(0.05, sigmoid_q, apply_sigmoid=False)"
   ]
  },
  {
   "cell_type": "code",
   "execution_count": 97,
   "metadata": {},
   "outputs": [],
   "source": [
    "B,_,H,W = sigmoid_q.shape\n",
    "kl_loss = kl_divergence(0.05, sigmoid_q, apply_sigmoid=False)[None,:,None,None]"
   ]
  },
  {
   "cell_type": "code",
   "execution_count": 101,
   "metadata": {},
   "outputs": [
    {
     "name": "stdout",
     "output_type": "stream",
     "text": [
      "2 3 3\n",
      "torch.Size([2, 10, 3, 3])\n"
     ]
    }
   ],
   "source": [
    "print(B, H, W)\n",
    "print(kl_loss.expand(B, -1, H, W).shape)"
   ]
  },
  {
   "cell_type": "markdown",
   "metadata": {},
   "source": [
    "# Sparse Sig Test"
   ]
  },
  {
   "cell_type": "code",
   "execution_count": 1,
   "metadata": {},
   "outputs": [],
   "source": [
    "import os, sys\n",
    "project_dir = os.path.join(os.getcwd(),'..')\n",
    "if project_dir not in sys.path:\n",
    "    sys.path.append(project_dir)\n",
    "    \n",
    "from Sparse import SparseSigmoid, ReLUWithSparsity\n",
    "import torch"
   ]
  },
  {
   "cell_type": "code",
   "execution_count": 2,
   "metadata": {},
   "outputs": [],
   "source": [
    "dtype = torch.float\n",
    "device = torch.device(\"cpu\")\n",
    "\n",
    "# N is batch size; D_in is input dimension;\n",
    "# H is hidden dimension; D_out is output dimension.\n",
    "N, D_in, H, D_out = 64, 1000, 100, 10\n",
    "\n",
    "# Create random Tensors to hold input and outputs.\n",
    "x = torch.randn(N, D_in, device=device, dtype=dtype)\n",
    "y = torch.randn(N, D_out, device=device, dtype=dtype)"
   ]
  },
  {
   "cell_type": "code",
   "execution_count": 3,
   "metadata": {},
   "outputs": [
    {
     "name": "stdout",
     "output_type": "stream",
     "text": [
      "99 27120.078125\n",
      "199 20161.357421875\n",
      "299 16600.876953125\n",
      "399 14549.0322265625\n",
      "499 13256.4912109375\n",
      "599 12372.5712890625\n",
      "699 11686.6474609375\n",
      "799 11119.1474609375\n",
      "899 10669.1640625\n",
      "999 10270.3955078125\n",
      "1099 9927.93359375\n",
      "1199 9634.8251953125\n",
      "1299 9362.544921875\n",
      "1399 9105.9580078125\n",
      "1499 8868.7939453125\n",
      "1599 8651.3271484375\n",
      "1699 8451.037109375\n",
      "1799 8255.2998046875\n",
      "1899 8061.013671875\n",
      "1999 7878.02001953125\n",
      "2099 7701.82373046875\n",
      "2199 7531.3564453125\n",
      "2299 7369.2666015625\n",
      "2399 7218.0693359375\n",
      "2499 7076.5126953125\n",
      "2599 6941.51416015625\n",
      "2699 6809.25244140625\n",
      "2799 6678.89990234375\n",
      "2899 6551.318359375\n",
      "2999 6424.99267578125\n",
      "3099 6302.63720703125\n",
      "3199 6188.8779296875\n",
      "3299 6084.0107421875\n",
      "3399 5986.0908203125\n",
      "3499 5893.10498046875\n",
      "3599 5803.7294921875\n",
      "3699 5717.37158203125\n",
      "3799 5633.7783203125\n",
      "3899 5552.5400390625\n",
      "3999 5473.02490234375\n",
      "4099 5394.7119140625\n",
      "4199 5317.365234375\n",
      "4299 5240.8818359375\n",
      "4399 5165.423828125\n",
      "4499 5091.6865234375\n",
      "4599 5020.35400390625\n",
      "4699 4951.43359375\n",
      "4799 4884.3935546875\n",
      "4899 4818.54296875\n",
      "4999 4753.2353515625\n",
      "5099 4688.025390625\n",
      "5199 4622.8447265625\n",
      "5299 4557.9580078125\n",
      "5399 4493.46630859375\n",
      "5499 4428.8857421875\n",
      "5599 4363.328125\n",
      "5699 4296.10693359375\n",
      "5799 4226.44189453125\n",
      "5899 4159.2177734375\n",
      "5999 4098.7421875\n",
      "6099 4042.126953125\n",
      "6199 3987.173828125\n",
      "6299 3932.670654296875\n",
      "6399 3877.68994140625\n",
      "6499 3821.4716796875\n",
      "6599 3764.0498046875\n",
      "6699 3706.966796875\n",
      "6799 3651.891357421875\n",
      "6899 3598.581787109375\n",
      "6999 3546.347900390625\n",
      "7099 3495.488525390625\n",
      "7199 3446.670654296875\n",
      "7299 3400.004150390625\n",
      "7399 3355.09765625\n",
      "7499 3311.434326171875\n",
      "7599 3268.5830078125\n",
      "7699 3226.359619140625\n",
      "7799 3184.85205078125\n",
      "7899 3144.168701171875\n",
      "7999 3104.28271484375\n",
      "8099 3064.940673828125\n",
      "8199 3025.30908203125\n",
      "8299 2984.33544921875\n",
      "8399 2943.66796875\n",
      "8499 2905.9404296875\n",
      "8599 2870.399169921875\n",
      "8699 2835.62109375\n",
      "8799 2800.57568359375\n",
      "8899 2764.927490234375\n",
      "8999 2729.767578125\n",
      "9099 2696.138916015625\n",
      "9199 2663.79931640625\n",
      "9299 2632.1953125\n",
      "9399 2600.903076171875\n",
      "9499 2569.5009765625\n",
      "9599 2537.443359375\n",
      "9699 2504.045166015625\n",
      "9799 2468.92724609375\n",
      "9899 2433.718017578125\n",
      "9999 2400.6240234375\n"
     ]
    }
   ],
   "source": [
    "# Create random Tensors for weights.\n",
    "w1 = torch.randn(D_in, H, device=device, dtype=dtype, requires_grad=True)\n",
    "w2 = torch.randn(H, D_out, device=device, dtype=dtype, requires_grad=True)\n",
    "\n",
    "act = SparseSigmoid(beta=1e-2)\n",
    "# act = ReLUWithSparsity(beta=1e-2)\n",
    "# act = torch.nn.Sigmoid()\n",
    "\n",
    "learning_rate = 1e-6\n",
    "for t in range(10000):\n",
    "    # To apply our Function, we use Function.apply method. We alias this as 'relu'.\n",
    "    # act = sparse_relu.apply\n",
    "    # relu = original_relu\n",
    "\n",
    "    # Forward pass: compute predicted y using operations; we compute\n",
    "    # ReLU using our custom autograd operation.\n",
    "    y_pred = act(x.mm(w1)).mm(w2)\n",
    "    # y_pred = relu(x.mm(w1)).mm(w2)\n",
    "\n",
    "    # Compute and print loss\n",
    "    loss = (y_pred - y).pow(2).sum()\n",
    "    if t % 100 == 99:\n",
    "        print(t, loss.item())\n",
    "\n",
    "    # Use autograd to compute the backward pass.\n",
    "    loss.backward()\n",
    "\n",
    "    # Update weights using gradient descent\n",
    "    with torch.no_grad():\n",
    "        w1 -= learning_rate * w1.grad\n",
    "        w2 -= learning_rate * w2.grad\n",
    "\n",
    "        # Manually zero the gradients after updating weights\n",
    "        w1.grad.zero_()\n",
    "        w2.grad.zero_()"
   ]
  },
  {
   "cell_type": "code",
   "execution_count": 4,
   "metadata": {},
   "outputs": [
    {
     "name": "stdout",
     "output_type": "stream",
     "text": [
      "Number of values closes to 0: 54; bigger: 46\n"
     ]
    }
   ],
   "source": [
    "lz = (x.mm(w1)<=0)[0].sum()\n",
    "bz = (x.mm(w1)>0)[0].sum()\n",
    "print('Number of values closes to 0: {}; bigger: {}'.format(lz, bz))"
   ]
  },
  {
   "cell_type": "code",
   "execution_count": 5,
   "metadata": {},
   "outputs": [
    {
     "data": {
      "image/png": "[encoded data removed]",
      "text/plain": [
       "<Figure size 432x288 with 1 Axes>"
      ]
     },
     "metadata": {
      "needs_background": "light"
     },
     "output_type": "display_data"
    }
   ],
   "source": [
    "from matplotlib import pyplot as plt\n",
    "\n",
    "a = x.mm(w1)[0].cpu()\n",
    "plt.hist(a.detach().cpu().numpy(), bins=25)\n",
    "plt.show()"
   ]
  },
  {
   "cell_type": "code",
   "execution_count": 6,
   "metadata": {},
   "outputs": [
    {
     "data": {
      "image/png": "[encoded data removed]",
      "text/plain": [
       "<Figure size 432x288 with 1 Axes>"
      ]
     },
     "metadata": {
      "needs_background": "light"
     },
     "output_type": "display_data"
    }
   ],
   "source": [
    "from matplotlib import pyplot as plt\n",
    "from torch import sigmoid, relu\n",
    "\n",
    "a = sigmoid(x.mm(w1)[0].cpu())\n",
    "# a = relu(x.mm(w1)[0].cpu()) \n",
    "plt.hist(a.detach().cpu().numpy(), bins=25)\n",
    "plt.show()"
   ]
  },
  {
   "cell_type": "code",
   "execution_count": null,
   "metadata": {},
   "outputs": [],
   "source": []
  }
 ],
 "metadata": {
  "interpreter": {
   "hash": "15b37510c40f952771730cdce6ed2555d8094a99b7d6886f5b16bebe3e0bdfae"
  },
  "kernelspec": {
   "display_name": "Python 3.9.7 64-bit ('HySpecLab': conda)",
   "language": "python",
   "name": "python3"
  },
  "language_info": {
   "codemirror_mode": {
    "name": "ipython",
    "version": 3
   },
   "file_extension": ".py",
   "mimetype": "text/x-python",
   "name": "python",
   "nbconvert_exporter": "python",
   "pygments_lexer": "ipython3",
   "version": "3.9.7"
  },
  "orig_nbformat": 4
 },
 "nbformat": 4,
 "nbformat_minor": 2
}
