{
 "cells": [
  {
   "cell_type": "code",
   "execution_count": 4,
   "metadata": {},
   "outputs": [],
   "source": [
    "import torch\n",
    "from torch import sigmoid"
   ]
  },
  {
   "cell_type": "code",
   "execution_count": 19,
   "metadata": {},
   "outputs": [],
   "source": [
    "a = torch.rand((100,100))\n",
    "result = torch.sigmoid(a)"
   ]
  },
  {
   "cell_type": "code",
   "execution_count": 20,
   "metadata": {},
   "outputs": [
    {
     "data": {
      "text/plain": [
       "tensor([[ True,  True,  True,  ...,  True,  True,  True],\n",
       "        [ True,  True,  True,  ...,  True,  True,  True],\n",
       "        [ True,  True,  True,  ...,  True, False,  True],\n",
       "        ...,\n",
       "        [ True,  True,  True,  ...,  True,  True,  True],\n",
       "        [ True,  True,  True,  ...,  True,  True,  True],\n",
       "        [ True, False,  True,  ...,  True,  True,  True]])"
      ]
     },
     "execution_count": 20,
     "metadata": {},
     "output_type": "execute_result"
    }
   ],
   "source": [
    "1 / (1 + torch.exp(-a)) == result"
   ]
  },
  {
   "cell_type": "code",
   "execution_count": 21,
   "metadata": {},
   "outputs": [
    {
     "data": {
      "text/plain": [
       "(array([ 886.,  941.,  933.,  973.,  974., 1034., 1029.,  989., 1089.,\n",
       "        1152.]),\n",
       " array([0.5000155 , 0.52311814, 0.5462208 , 0.5693235 , 0.5924261 ,\n",
       "        0.61552876, 0.6386314 , 0.66173404, 0.68483675, 0.7079394 ,\n",
       "        0.731042  ], dtype=float32),\n",
       " <BarContainer object of 10 artists>)"
      ]
     },
     "execution_count": 21,
     "metadata": {},
     "output_type": "execute_result"
    },
    {
     "data": {
      "image/png": "[encoded data removed]",
      "text/plain": [
       "<Figure size 432x288 with 1 Axes>"
      ]
     },
     "metadata": {
      "needs_background": "light"
     },
     "output_type": "display_data"
    }
   ],
   "source": [
    "from matplotlib import pyplot as plt\n",
    "test = 1 / (1 + torch.exp(-a))\n",
    "plt.hist(test.flatten().numpy())"
   ]
  },
  {
   "cell_type": "code",
   "execution_count": 36,
   "metadata": {},
   "outputs": [
    {
     "data": {
      "image/png": "[encoded data removed]",
      "text/plain": [
       "<Figure size 432x288 with 1 Axes>"
      ]
     },
     "metadata": {
      "needs_background": "light"
     },
     "output_type": "display_data"
    }
   ],
   "source": [
    "a = torch.arange(-6, 6, 0.5)\n",
    "\n",
    "from matplotlib import pyplot as plt\n",
    "test = 1 / (1 + torch.exp(-a))\n",
    "plt.plot(test.numpy())\n",
    "plt.plot(test*(1-test))\n",
    "plt.show()"
   ]
  },
  {
   "cell_type": "code",
   "execution_count": 35,
   "metadata": {},
   "outputs": [
    {
     "data": {
      "text/plain": [
       "tensor([0.0025, 0.0041, 0.0066, 0.0109, 0.0177, 0.0285, 0.0452, 0.0701, 0.1050,\n",
       "        0.1491, 0.1966, 0.2350, 0.2500, 0.2350, 0.1966, 0.1491, 0.1050, 0.0701,\n",
       "        0.0452, 0.0285, 0.0177, 0.0109, 0.0066, 0.0041])"
      ]
     },
     "execution_count": 35,
     "metadata": {},
     "output_type": "execute_result"
    }
   ],
   "source": [
    "test*(1-test)"
   ]
  },
  {
   "cell_type": "code",
   "execution_count": 83,
   "metadata": {},
   "outputs": [],
   "source": [
    "q = torch.rand((2, 10, 3, 3))\n",
    "sigmoid_q = 1 / (1 + torch.exp(-q))"
   ]
  },
  {
   "cell_type": "code",
   "execution_count": 84,
   "metadata": {},
   "outputs": [
    {
     "name": "stdout",
     "output_type": "stream",
     "text": [
      "2\n",
      "tensor([[0.6188, 0.6059, 0.6119, 0.6375, 0.6405, 0.6120, 0.5749, 0.6471, 0.6229,\n",
      "         0.6103],\n",
      "        [0.6307, 0.6139, 0.6190, 0.6097, 0.6305, 0.5888, 0.6048, 0.5862, 0.6649,\n",
      "         0.6429]])\n",
      "tensor([[0.6188, 0.6059, 0.6119, 0.6375, 0.6405, 0.6120, 0.5749, 0.6471, 0.6229,\n",
      "         0.6103],\n",
      "        [0.6307, 0.6139, 0.6190, 0.6097, 0.6305, 0.5888, 0.6048, 0.5862, 0.6649,\n",
      "         0.6429]])\n"
     ]
    }
   ],
   "source": [
    "dim = 2 if len(q.shape) == 4 else 1\n",
    "print(dim)\n",
    "\n",
    "rho_hat = torch.mean(sigmoid(q).flatten(dim), dim)\n",
    "print(rho_hat)\n",
    "rho_hat = torch.mean(sigmoid_q.flatten(dim), dim)\n",
    "print(rho_hat)"
   ]
  },
  {
   "cell_type": "code",
   "execution_count": 85,
   "metadata": {},
   "outputs": [],
   "source": [
    "rho = torch.ones(rho_hat.shape).to(q.device) * 0.05"
   ]
  },
  {
   "cell_type": "code",
   "execution_count": 86,
   "metadata": {},
   "outputs": [
    {
     "data": {
      "text/plain": [
       "tensor([1.5125, 1.4412, 1.4672, 1.5082, 1.5662, 1.3976, 1.3505, 1.4790, 1.6120,\n",
       "        1.5231])"
      ]
     },
     "execution_count": 86,
     "metadata": {},
     "output_type": "execute_result"
    }
   ],
   "source": [
    "torch.sum(rho * torch.log(rho/rho_hat) + (1 - rho) * torch.log((1 - rho)/(1 - rho_hat)), axis=0)"
   ]
  },
  {
   "cell_type": "code",
   "execution_count": 87,
   "metadata": {},
   "outputs": [],
   "source": [
    "def kl_divergence(p: float, q: torch.Tensor, apply_sigmoid=True) -> torch.Tensor:\n",
    "    '''\n",
    "        Kullback-Leibler (KL) divergence between a Bernoulli random variable with mean\n",
    "        p and a Bernoulli random variable with mean q.\n",
    "\n",
    "        For convolutional output tensor (shape B,C,H,W) the kl divergence is estimated per\n",
    "        channel.\n",
    "\n",
    "        Params\n",
    "        ------\n",
    "            p: float\n",
    "                Sparsity parameter, typically a small value close to zero (i.e 0.05).\n",
    "\n",
    "            q: torch.Tensor\n",
    "                The output of a layer.\n",
    "\n",
    "            apply_sigmoid: Bolean\n",
    "                Indicate if it is necessary to apply sigmoid function to q in order to\n",
    "                obtain the probability distribution.\n",
    "        Return\n",
    "        ------\n",
    "            kl divergence estimation: torch.Tensor\n",
    "                In general return a unique value but in convolutional output the tensor\n",
    "                shape is defined by the number of Channels, i.e shape [1, C].\n",
    "    '''\n",
    "    # check if tensor belong to a convolutional output or not\n",
    "    dim = 2 if len(q.shape) == 4 else 1\n",
    "\n",
    "    q = sigmoid(q) if apply_sigmoid else q # sigmoid because we need the probability distributions\n",
    "\n",
    "    rho_hat = torch.mean(q.flatten(dim), dim) \n",
    "    rho = torch.ones(rho_hat.shape).to(q.device) * p\n",
    "    return torch.sum(rho * torch.log(rho/rho_hat) + (1 - rho) * torch.log((1 - rho)/(1 - rho_hat)), axis=0)"
   ]
  },
  {
   "cell_type": "code",
   "execution_count": 88,
   "metadata": {},
   "outputs": [
    {
     "data": {
      "text/plain": [
       "tensor([1.5125, 1.4412, 1.4672, 1.5082, 1.5662, 1.3976, 1.3505, 1.4790, 1.6120,\n",
       "        1.5231])"
      ]
     },
     "execution_count": 88,
     "metadata": {},
     "output_type": "execute_result"
    }
   ],
   "source": [
    "kl_divergence(0.05, q)"
   ]
  },
  {
   "cell_type": "code",
   "execution_count": 91,
   "metadata": {},
   "outputs": [
    {
     "data": {
      "text/plain": [
       "tensor([1.5125, 1.4412, 1.4672, 1.5082, 1.5662, 1.3976, 1.3505, 1.4790, 1.6120,\n",
       "        1.5231])"
      ]
     },
     "execution_count": 91,
     "metadata": {},
     "output_type": "execute_result"
    }
   ],
   "source": [
    "kl_divergence(0.05, sigmoid_q, apply_sigmoid=False)"
   ]
  },
  {
   "cell_type": "code",
   "execution_count": 97,
   "metadata": {},
   "outputs": [],
   "source": [
    "B,_,H,W = sigmoid_q.shape\n",
    "kl_loss = kl_divergence(0.05, sigmoid_q, apply_sigmoid=False)[None,:,None,None]"
   ]
  },
  {
   "cell_type": "code",
   "execution_count": 101,
   "metadata": {},
   "outputs": [
    {
     "name": "stdout",
     "output_type": "stream",
     "text": [
      "2 3 3\n",
      "torch.Size([2, 10, 3, 3])\n"
     ]
    }
   ],
   "source": [
    "print(B, H, W)\n",
    "print(kl_loss.expand(B, -1, H, W).shape)"
   ]
  },
  {
   "cell_type": "code",
   "execution_count": null,
   "metadata": {},
   "outputs": [],
   "source": []
  }
 ],
 "metadata": {
  "interpreter": {
   "hash": "15b37510c40f952771730cdce6ed2555d8094a99b7d6886f5b16bebe3e0bdfae"
  },
  "kernelspec": {
   "display_name": "Python 3.9.7 64-bit ('HySpecLab': conda)",
   "language": "python",
   "name": "python3"
  },
  "language_info": {
   "codemirror_mode": {
    "name": "ipython",
    "version": 3
   },
   "file_extension": ".py",
   "mimetype": "text/x-python",
   "name": "python",
   "nbconvert_exporter": "python",
   "pygments_lexer": "ipython3",
   "version": "3.9.7"
  },
  "orig_nbformat": 4
 },
 "nbformat": 4,
 "nbformat_minor": 2
}
