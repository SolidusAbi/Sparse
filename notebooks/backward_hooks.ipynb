{
 "cells": [
  {
   "cell_type": "code",
   "execution_count": 121,
   "metadata": {},
   "outputs": [],
   "source": [
    "import torch\n",
    "from torch import nn"
   ]
  },
  {
   "cell_type": "code",
   "execution_count": 122,
   "metadata": {},
   "outputs": [],
   "source": [
    "class MyMultiply(nn.Module):\n",
    "    def __init__(self):\n",
    "        super(MyMultiply, self).__init__()\n",
    "        \n",
    "    @staticmethod\n",
    "    def forward(a, b, c):\n",
    "        return a*c*b"
   ]
  },
  {
   "cell_type": "code",
   "execution_count": 123,
   "metadata": {},
   "outputs": [],
   "source": [
    "def backward_hook(module, grad_input, grad_output):\n",
    "    print('Module: {}'.format(module))\n",
    "    print('Grad. Input: {}'.format(grad_input))\n",
    "    print('Grad. Output: {}'.format(grad_output))"
   ]
  },
  {
   "cell_type": "code",
   "execution_count": 124,
   "metadata": {},
   "outputs": [
    {
     "name": "stdout",
     "output_type": "stream",
     "text": [
      "Module: MyMultiply()\n",
      "Grad. Input: (tensor(30.), tensor(20.), tensor(6.))\n",
      "Grad. Output: (tensor(1.),)\n"
     ]
    }
   ],
   "source": [
    "my_multiply = MyMultiply()\n",
    "my_multiply.register_full_backward_hook(backward_hook)\n",
    "\n",
    "a = torch.tensor(2., requires_grad=True)\n",
    "b = torch.tensor(3., requires_grad=True)\n",
    "c = torch.tensor(10., requires_grad=True)\n",
    "d = my_multiply(a,b,c)\n",
    "\n",
    "d.backward()"
   ]
  }
 ],
 "metadata": {
  "interpreter": {
   "hash": "fed6d6cd0ea97ce3b2d4e99f7713523d71a847210ef7afa8b6d15b0ad5dcd7d5"
  },
  "kernelspec": {
   "display_name": "Python 3.8.5 ('DeepLearning')",
   "language": "python",
   "name": "python3"
  },
  "language_info": {
   "codemirror_mode": {
    "name": "ipython",
    "version": 3
   },
   "file_extension": ".py",
   "mimetype": "text/x-python",
   "name": "python",
   "nbconvert_exporter": "python",
   "pygments_lexer": "ipython3",
   "version": "3.8.5"
  },
  "orig_nbformat": 4
 },
 "nbformat": 4,
 "nbformat_minor": 2
}
