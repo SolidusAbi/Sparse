{
 "cells": [
  {
   "cell_type": "markdown",
   "metadata": {},
   "source": [
    "# Feature Selector using Stochastic Gates"
   ]
  },
  {
   "cell_type": "code",
   "execution_count": 1,
   "metadata": {},
   "outputs": [],
   "source": [
    "import torch\n",
    "import numpy as np"
   ]
  },
  {
   "cell_type": "code",
   "execution_count": 2,
   "metadata": {},
   "outputs": [],
   "source": [
    "from torch import nn\n",
    "from torch.nn import Parameter\n",
    "import torch.nn.functional as F\n",
    "\n",
    "class FeatureSelectorSG(nn.Module):\n",
    "    def __init__(self, input_size, sigma=.5):\n",
    "        super(FeatureSelectorSG, self).__init__()\n",
    "        self.input_size = input_size\n",
    "        self.sigma = sigma\n",
    "        self.mu = Parameter(1e-2 * torch.randn(input_size))\n",
    "\n",
    "    def forward(self, x):\n",
    "        eps = torch.normal(0, torch.ones_like(self.mu))\n",
    "        z = self.mu + (self.sigma * eps * self.training)\n",
    "        gate = F.hardtanh(z, 0, 1)\n",
    "        return gate * x\n",
    "\n",
    "\n",
    "    def guassian_cdf(self, x:torch.Tensor) -> torch.Tensor:\n",
    "        r''' \n",
    "            Guassian CDF\n",
    "            \n",
    "            Based on: https://stackoverflow.com/questions/809362/how-to-calculate-cumulative-normal-distribution\n",
    "        '''\n",
    "        return 0.5 * (1 + torch.erf(x / np.sqrt(2)))\n",
    "\n",
    "    def regularize(self):\n",
    "        r'''\n",
    "            The expected regularization is the is the sum of the probabilities \n",
    "            that the gates are are active\n",
    "        '''\n",
    "\n",
    "        return torch.sum(self.guassian_cdf(self.mu / self.sigma))"
   ]
  },
  {
   "cell_type": "markdown",
   "metadata": {},
   "source": [
    "# Experiment"
   ]
  },
  {
   "cell_type": "code",
   "execution_count": 3,
   "metadata": {},
   "outputs": [],
   "source": [
    "from sklearn import datasets\n",
    "from torch.utils.data import Dataset, DataLoader\n",
    "\n",
    "class BreastCancer(Dataset):\n",
    "    r'''\n",
    "        Breast Cancer Wisconsin Dataset\n",
    "    '''\n",
    "    def __init__(self, normalize=False):\n",
    "        dataset = datasets.load_breast_cancer()\n",
    "        self.data = torch.tensor(dataset.data).float()\n",
    "        self.targets = torch.tensor(dataset.target)\n",
    "    \n",
    "        if normalize:\n",
    "            self.data /= torch.max(self.data, dim=0)[0]\n",
    "\n",
    "    def __getitem__(self, idx):\n",
    "        return self.data[idx], self.targets[idx]\n",
    "\n",
    "    def __len__(self):\n",
    "        return len(self.data)"
   ]
  },
  {
   "cell_type": "code",
   "execution_count": 4,
   "metadata": {},
   "outputs": [],
   "source": [
    "import torch\n",
    "from torch import nn\n",
    "\n",
    "class Model(nn.Module):\n",
    "    def __init__(self, input_size, hidden_size, output_size):\n",
    "        super(Model, self).__init__()\n",
    "        self.model = nn.Sequential(\n",
    "                FeatureSelectorSG(input_size),\n",
    "                nn.Linear(input_size, hidden_size),\n",
    "                nn.ReLU(),\n",
    "                nn.Linear(hidden_size, hidden_size//2),\n",
    "                nn.ReLU(),\n",
    "                nn.Linear(hidden_size//2, output_size)\n",
    "        )\n",
    "\n",
    "    def forward(self, x):\n",
    "        return self.model(x)\n",
    "\n",
    "    def regularization(self, reg_factor = 1e-3):\n",
    "        reg = 0.\n",
    "        for module in self.modules():\n",
    "            if isinstance(module, FeatureSelectorSG):\n",
    "                reg = reg  + (reg_factor * module.regularize())\n",
    "        return reg\n"
   ]
  },
  {
   "cell_type": "code",
   "execution_count": 5,
   "metadata": {},
   "outputs": [],
   "source": [
    "from tqdm import tqdm\n",
    "\n",
    "def train(model, dataset, batch_size = 128, n_epochs=10):\n",
    "    device = 'cuda' if torch.cuda.is_available() else 'cpu'\n",
    "    model = model.to(device)\n",
    "    optimizer = torch.optim.Adam(model.parameters(), lr=1e-2)\n",
    "    criterion = nn.CrossEntropyLoss()\n",
    "    loader = DataLoader(dataset, batch_size=batch_size, shuffle=True)\n",
    "\n",
    "    reg_factor = 1e-6\n",
    "\n",
    "    epoch_iterator = tqdm(\n",
    "            range(n_epochs),\n",
    "            leave=True,\n",
    "            unit=\"epoch\",\n",
    "            postfix={\"tls\": \"%.4f\" % 1},\n",
    "        )\n",
    "\n",
    "    for _ in epoch_iterator:\n",
    "        reg_factor = max(reg_factor + 1e-4, 1e-2)\n",
    "        for idx, (inputs, targets) in enumerate(loader):\n",
    "            optimizer.zero_grad()\n",
    "\n",
    "            inputs = inputs.to(device)\n",
    "            targets = targets.to(device)\n",
    "            pred = model(inputs)\n",
    "\n",
    "            loss = criterion(pred, targets) + model.regularization()\n",
    "            loss.backward()\n",
    "            optimizer.step()\n",
    "\n",
    "            if idx % 10 == 0:\n",
    "                epoch_iterator.set_postfix(tls=\"%.4f\" % loss.item())\n",
    "\n",
    "    return model"
   ]
  },
  {
   "cell_type": "code",
   "execution_count": 6,
   "metadata": {},
   "outputs": [],
   "source": [
    "dataset = BreastCancer(normalize=True)\n",
    "\n",
    "eval_len = len(dataset) // 5 # 20% of the dataset\n",
    "train_set, eval_set = torch.utils.data.random_split(dataset, [len(dataset) - eval_len, eval_len])\n",
    "\n",
    "loader = DataLoader(eval_set, batch_size=128, shuffle=True)"
   ]
  },
  {
   "cell_type": "code",
   "execution_count": 7,
   "metadata": {},
   "outputs": [
    {
     "name": "stderr",
     "output_type": "stream",
     "text": [
      "100%|██████████| 400/400 [00:13<00:00, 29.12epoch/s, tls=0.1277]\n"
     ]
    },
    {
     "data": {
      "text/plain": [
       "Model(\n",
       "  (model): Sequential(\n",
       "    (0): FeatureSelectorSG()\n",
       "    (1): Linear(in_features=30, out_features=48, bias=True)\n",
       "    (2): ReLU()\n",
       "    (3): Linear(in_features=48, out_features=24, bias=True)\n",
       "    (4): ReLU()\n",
       "    (5): Linear(in_features=24, out_features=2, bias=True)\n",
       "  )\n",
       ")"
      ]
     },
     "execution_count": 7,
     "metadata": {},
     "output_type": "execute_result"
    }
   ],
   "source": [
    "model = Model(30, 48, 2)\n",
    "train(model, train_set, batch_size=128, n_epochs=400)"
   ]
  },
  {
   "cell_type": "code",
   "execution_count": 8,
   "metadata": {},
   "outputs": [],
   "source": [
    "feature_selector = model.model[0]"
   ]
  },
  {
   "cell_type": "code",
   "execution_count": 9,
   "metadata": {},
   "outputs": [],
   "source": [
    "model.eval()\n",
    "x, y = next(iter(loader))\n",
    "selected = feature_selector(x.cuda()).cpu()"
   ]
  },
  {
   "cell_type": "code",
   "execution_count": 10,
   "metadata": {},
   "outputs": [
    {
     "name": "stdout",
     "output_type": "stream",
     "text": [
      "['worst area' 'area error' 'worst concave points' 'mean concavity'\n",
      " 'mean concave points' 'worst concavity' 'fractal dimension error'\n",
      " 'mean area' 'radius error' 'worst texture' 'smoothness error'\n",
      " 'worst compactness' 'perimeter error' 'worst perimeter'\n",
      " 'compactness error' 'symmetry error' 'worst radius' 'worst symmetry'\n",
      " 'mean perimeter' 'mean fractal dimension' 'mean radius'\n",
      " 'worst fractal dimension' 'mean texture' 'mean symmetry'\n",
      " 'mean compactness' 'worst smoothness' 'concavity error'\n",
      " 'concave points error' 'texture error' 'mean smoothness']\n"
     ]
    }
   ],
   "source": [
    "values, idx = torch.sort(feature_selector.mu)\n",
    "features_names = datasets.load_breast_cancer(as_frame=True).data.columns[idx.flipud().cpu()]\n",
    "print(features_names)"
   ]
  },
  {
   "cell_type": "code",
   "execution_count": 11,
   "metadata": {},
   "outputs": [
    {
     "data": {
      "text/plain": [
       "tensor([False, False, False, False, False, False,  True,  True, False, False,\n",
       "        False, False, False,  True, False, False, False, False, False, False,\n",
       "        False, False, False,  True, False, False, False,  True, False, False])"
      ]
     },
     "execution_count": 11,
     "metadata": {},
     "output_type": "execute_result"
    }
   ],
   "source": [
    "selected[0] == x[0]"
   ]
  },
  {
   "cell_type": "code",
   "execution_count": 12,
   "metadata": {},
   "outputs": [
    {
     "data": {
      "text/plain": [
       "Parameter containing:\n",
       "tensor([-0.5233, -0.5821, -0.4947,  0.3475, -0.8857, -0.6511,  1.6401,  1.1204,\n",
       "        -0.6439, -0.5060,  0.0411, -0.8130, -0.2006,  1.9670, -0.1568, -0.2627,\n",
       "        -0.6603, -0.7474, -0.2658,  0.7959, -0.3885, -0.0355, -0.2391,  2.2212,\n",
       "        -0.6538, -0.1581,  0.9552,  1.6623, -0.3969, -0.5761], device='cuda:0',\n",
       "       requires_grad=True)"
      ]
     },
     "execution_count": 12,
     "metadata": {},
     "output_type": "execute_result"
    }
   ],
   "source": [
    "feature_selector.mu"
   ]
  },
  {
   "cell_type": "code",
   "execution_count": null,
   "metadata": {},
   "outputs": [],
   "source": []
  }
 ],
 "metadata": {
  "kernelspec": {
   "display_name": "Python 3.9.7 ('HySpecLab')",
   "language": "python",
   "name": "python3"
  },
  "language_info": {
   "codemirror_mode": {
    "name": "ipython",
    "version": 3
   },
   "file_extension": ".py",
   "mimetype": "text/x-python",
   "name": "python",
   "nbconvert_exporter": "python",
   "pygments_lexer": "ipython3",
   "version": "3.9.7"
  },
  "orig_nbformat": 4,
  "vscode": {
   "interpreter": {
    "hash": "bc81a3ec444beb1d5a523daf231afa571e79be8a57abb6fe0028623a3d4d7136"
   }
  }
 },
 "nbformat": 4,
 "nbformat_minor": 2
}
