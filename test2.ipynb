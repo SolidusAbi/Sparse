{
 "cells": [
  {
   "cell_type": "code",
   "execution_count": 1,
   "metadata": {},
   "outputs": [],
   "source": [
    "from torch import nn\n",
    "from torch.nn import functional as F\n",
    "import torch \n",
    "\n",
    "device = 'cuda' if torch.cuda.is_available() else 'cpu'"
   ]
  },
  {
   "cell_type": "code",
   "execution_count": 39,
   "metadata": {},
   "outputs": [],
   "source": [
    "from functional import sparse_relu\n",
    "from torch.nn.functional import relu as original_relu"
   ]
  },
  {
   "cell_type": "code",
   "execution_count": 51,
   "metadata": {},
   "outputs": [],
   "source": [
    "dtype = torch.float\n",
    "device = torch.device(\"cpu\")\n",
    "\n",
    "# N is batch size; D_in is input dimension;\n",
    "# H is hidden dimension; D_out is output dimension.\n",
    "N, D_in, H, D_out = 64, 1000, 100, 10\n",
    "\n",
    "# Create random Tensors to hold input and outputs.\n",
    "x = torch.randn(N, D_in, device=device, dtype=dtype)\n",
    "y = torch.randn(N, D_out, device=device, dtype=dtype)\n"
   ]
  },
  {
   "cell_type": "code",
   "execution_count": 64,
   "metadata": {},
   "outputs": [
    {
     "name": "stdout",
     "output_type": "stream",
     "text": [
      "99 591.7969360351562\n",
      "199 4.046454906463623\n",
      "299 0.044572532176971436\n",
      "399 0.0010392953408882022\n",
      "499 0.0005109953926876187\n",
      "599 0.0005123534356243908\n",
      "699 0.0005086007877252996\n",
      "799 0.0005088309408165514\n",
      "899 0.000512811413500458\n",
      "999 0.0005103123257867992\n",
      "1099 0.0005138643318787217\n",
      "1199 0.0005146075855009258\n",
      "1299 0.0005172404344193637\n",
      "1399 0.0005144352908246219\n",
      "1499 0.0005151216755621135\n",
      "1599 0.0005138475680723786\n",
      "1699 0.0005151548539288342\n",
      "1799 0.0005157133564352989\n",
      "1899 0.0005128012271597981\n",
      "1999 0.0005169901996850967\n",
      "2099 0.0005134193343110383\n",
      "2199 0.0005141364526934922\n",
      "2299 0.0005133046652190387\n",
      "2399 0.0005134451785124838\n",
      "2499 0.0005136284744367003\n",
      "2599 0.0005109379417262971\n",
      "2699 0.0005130337085574865\n",
      "2799 0.0005114899831824005\n",
      "2899 0.0005113482475280762\n",
      "2999 0.0005125513998791575\n",
      "3099 0.0005152886151336133\n",
      "3199 0.0005115101812407374\n",
      "3299 0.0005109098856337368\n",
      "3399 0.0005128830671310425\n",
      "3499 0.0005099016125313938\n",
      "3599 0.000511359772644937\n",
      "3699 0.0005086479941383004\n",
      "3799 0.0005127431359142065\n",
      "3899 0.0005113001680001616\n",
      "3999 0.0005127028562128544\n",
      "4099 0.000509779725689441\n",
      "4199 0.0005128614138811827\n",
      "4299 0.0005158225540071726\n",
      "4399 0.000519376655574888\n",
      "4499 0.0005189062794670463\n",
      "4599 0.0005186869530007243\n",
      "4699 0.0005162899033166468\n",
      "4799 0.000517895445227623\n",
      "4899 0.0005152198718860745\n",
      "4999 0.0005173716926947236\n"
     ]
    }
   ],
   "source": [
    "# Create random Tensors for weights.\n",
    "w1 = torch.randn(D_in, H, device=device, dtype=dtype, requires_grad=True)\n",
    "w2 = torch.randn(H, D_out, device=device, dtype=dtype, requires_grad=True)\n",
    "\n",
    "learning_rate = 1e-6\n",
    "for t in range(5000):\n",
    "    # To apply our Function, we use Function.apply method. We alias this as 'relu'.\n",
    "    relu = sparse_relu.apply\n",
    "    # relu = original_relu\n",
    "\n",
    "    # Forward pass: compute predicted y using operations; we compute\n",
    "    # ReLU using our custom autograd operation.\n",
    "    y_pred = relu(x.mm(w1), torch.tensor(0.05), torch.tensor(1e-3)).mm(w2)\n",
    "    # y_pred = relu(x.mm(w1)).mm(w2)\n",
    "\n",
    "    # Compute and print loss\n",
    "    loss = (y_pred - y).pow(2).sum()\n",
    "    if t % 100 == 99:\n",
    "        print(t, loss.item())\n",
    "\n",
    "    # Use autograd to compute the backward pass.\n",
    "    loss.backward()\n",
    "\n",
    "    # Update weights using gradient descent\n",
    "    with torch.no_grad():\n",
    "        w1 -= learning_rate * w1.grad\n",
    "        w2 -= learning_rate * w2.grad\n",
    "\n",
    "        # Manually zero the gradients after updating weights\n",
    "        w1.grad.zero_()\n",
    "        w2.grad.zero_()"
   ]
  },
  {
   "cell_type": "code",
   "execution_count": 65,
   "metadata": {},
   "outputs": [
    {
     "name": "stdout",
     "output_type": "stream",
     "text": [
      "Number of values closes to 0: 3451; bigger: 2949\n"
     ]
    }
   ],
   "source": [
    "lz = (x.mm(w1)<=0).sum()\n",
    "bz = (x.mm(w1)>0).sum()\n",
    "print('Number of values closes to 0: {}; bigger: {}'.format(lz, bz))"
   ]
  },
  {
   "cell_type": "code",
   "execution_count": 49,
   "metadata": {},
   "outputs": [
    {
     "data": {
      "text/plain": [
       "tensor(0.0422, grad_fn=<SumBackward0>)"
      ]
     },
     "execution_count": 49,
     "metadata": {},
     "output_type": "execute_result"
    }
   ],
   "source": [
    "loss"
   ]
  },
  {
   "cell_type": "code",
   "execution_count": 66,
   "metadata": {},
   "outputs": [],
   "source": [
    "a = x.mm(w1).cpu()"
   ]
  },
  {
   "cell_type": "code",
   "execution_count": 67,
   "metadata": {},
   "outputs": [
    {
     "data": {
      "text/plain": [
       "(array([ 1.,  0.,  0.,  0.,  0.,  1.,  1.,  2.,  2.,  5.,  6.,  9.,  5.,\n",
       "         4., 16.,  7.,  9.,  8.,  4.,  6.,  7.,  5.,  0.,  1.,  1.]),\n",
       " array([-110.60116  , -103.14107  ,  -95.68098  ,  -88.22089  ,\n",
       "         -80.760796 ,  -73.3007   ,  -65.84061  ,  -58.380516 ,\n",
       "         -50.920425 ,  -43.460335 ,  -36.000244 ,  -28.540152 ,\n",
       "         -21.08006  ,  -13.619968 ,   -6.1598763,    1.3002151,\n",
       "           8.760306 ,   16.220398 ,   23.68049  ,   31.140581 ,\n",
       "          38.600674 ,   46.060764 ,   53.520855 ,   60.98095  ,\n",
       "          68.44104  ,   75.90113  ], dtype=float32),\n",
       " <BarContainer object of 25 artists>)"
      ]
     },
     "execution_count": 67,
     "metadata": {},
     "output_type": "execute_result"
    },
    {
     "data": {
      "image/png": "[encoded data removed]",
      "text/plain": [
       "<Figure size 432x288 with 1 Axes>"
      ]
     },
     "metadata": {
      "needs_background": "light"
     },
     "output_type": "display_data"
    }
   ],
   "source": [
    "from matplotlib import pyplot as plt\n",
    "plt.hist(a[0].detach().cpu().numpy(), bins=25)\n"
   ]
  }
 ],
 "metadata": {
  "interpreter": {
   "hash": "fed6d6cd0ea97ce3b2d4e99f7713523d71a847210ef7afa8b6d15b0ad5dcd7d5"
  },
  "kernelspec": {
   "display_name": "Python 3.8.5 64-bit ('DeepLearning': conda)",
   "language": "python",
   "name": "python3"
  },
  "language_info": {
   "codemirror_mode": {
    "name": "ipython",
    "version": 3
   },
   "file_extension": ".py",
   "mimetype": "text/x-python",
   "name": "python",
   "nbconvert_exporter": "python",
   "pygments_lexer": "ipython3",
   "version": "3.8.8"
  },
  "orig_nbformat": 4
 },
 "nbformat": 4,
 "nbformat_minor": 2
}
